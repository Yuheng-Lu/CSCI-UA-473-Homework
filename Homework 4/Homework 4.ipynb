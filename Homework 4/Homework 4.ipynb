{
 "cells": [
  {
   "cell_type": "markdown",
   "id": "71e6d97e",
   "metadata": {},
   "source": [
    "# Homework 3\n",
    "## Package Import and Data Processing"
   ]
  },
  {
   "cell_type": "code",
   "execution_count": 1,
   "id": "7fc15f40",
   "metadata": {},
   "outputs": [],
   "source": [
    "import numpy as np\n",
    "import pandas as pd\n",
    "from sklearn import model_selection\n",
    "from sklearn import metrics\n",
    "from sklearn.linear_model import Perceptron\n",
    "import torch\n",
    "from torch import nn, optim\n",
    "from IPython import display\n",
    "from imblearn.under_sampling import RandomUnderSampler\n",
    "import matplotlib.pyplot as plt\n",
    "\n",
    "df = pd.read_csv('diabetes.csv')\n",
    "X = df.iloc[:, 1:]\n",
    "X_num = X[['BMI', 'MentalHealth', 'PhysicalHealth', 'AgeBracket', 'IncomeBracket']]\n",
    "X_norm = (X_num - X_num.mean())/X_num.std()\n",
    "X_other = X.drop(['BMI', 'MentalHealth', 'PhysicalHealth', 'AgeBracket', 'IncomeBracket'], axis=1)\n",
    "X = pd.concat([X_norm, X_other], axis=1, join='inner')\n",
    "Y = df['Diabetes']\n",
    "df = pd.concat([Y, X], axis=1, join='inner')"
   ]
  },
  {
   "cell_type": "markdown",
   "id": "6ff6a875",
   "metadata": {},
   "source": [
    "## Question 1\n",
    "*Build and train a Perceptron (one input layer, one output layer, no hidden layers and no activation functions) to classify diabetes from the rest of the dataset. What is the AUC of this model?*"
   ]
  },
  {
   "cell_type": "code",
   "execution_count": 63,
   "id": "654d8972",
   "metadata": {},
   "outputs": [
    {
     "name": "stdout",
     "output_type": "stream",
     "text": [
      "The AUC of a Perceptron is: 0.7817300866524691\n"
     ]
    }
   ],
   "source": [
    "X_train, X_val, Y_train, Y_val = model_selection.train_test_split(X, Y, test_size = 0.3, random_state = 981)\n",
    "clf = Perceptron(tol=1e-3, random_state=0).fit(X_train,Y_train)\n",
    "Y_pred = clf.decision_function(X_val)\n",
    "fpr, tpr, threshold = metrics.roc_curve(Y_val, Y_pred)\n",
    "auc_perceptron = metrics.auc(fpr, tpr)\n",
    "print(\"The AUC of a Perceptron is:\", auc_perceptron)"
   ]
  },
  {
   "cell_type": "code",
   "execution_count": 64,
   "id": "5f2defab",
   "metadata": {},
   "outputs": [
    {
     "data": {
      "image/png": "[encoded data removed]",
      "text/plain": [
       "<Figure size 432x288 with 1 Axes>"
      ]
     },
     "metadata": {
      "needs_background": "light"
     },
     "output_type": "display_data"
    }
   ],
   "source": [
    "plt.title('Receiver Operating Characteristic')\n",
    "plt.plot(fpr, tpr, 'b', label = 'AUC of Perceptron = %0.2f' % auc_perceptron)\n",
    "plt.legend(loc = 'lower right')\n",
    "plt.plot([0, 1], [0, 1],'r--')\n",
    "plt.xlim([0, 1])\n",
    "plt.ylim([0, 1])\n",
    "plt.ylabel('True Positive Rate')\n",
    "plt.xlabel('False Positive Rate')\n",
    "plt.show()"
   ]
  },
  {
   "cell_type": "markdown",
   "id": "664e0f34",
   "metadata": {},
   "source": [
    "* In the code, I first split dataset into training sets and testing sets. Then, I built a perceptron using sklearn. Then, I use metrics to calculate the AUC and plot the ROC curve out.\n",
    "* As the question asks me to build and train a perceptron and find AUC of this model, what I did is just following these steps.\n",
    "* The AUC of Perceptron is around 0.78173. The ROC curve is shown above.\n",
    "* The AUC of Perceptron is pretty good, which indicates that a Perceptron (one input layer, one output layer, no hidden layers and no activation functions) could be used as a model to classify diabetes."
   ]
  },
  {
   "cell_type": "markdown",
   "id": "d15b8dd2",
   "metadata": {},
   "source": [
    "## Question 2\n",
    "*Build and train a feedforward neural network with at least one hidden layer to classify diabetes from the rest of the dataset. Make sure to try different numbers of hidden layers and different activation functions (at a minimum reLU and sigmoid). Doing so: How does AUC vary as a function of the number of hidden layers and is it dependent on the kind of activation function used (make sure to include “no activation function” in your comparison). How does this network perform relative to the Perceptron?*"
   ]
  },
  {
   "cell_type": "code",
   "execution_count": 2,
   "id": "03500d72",
   "metadata": {},
   "outputs": [],
   "source": [
    "learning_rate = 1e-1\n",
    "lambda_l2 = 1e-5\n",
    "D = 21\n",
    "C = 2\n",
    "H = 20\n",
    "\n",
    "ros = RandomUnderSampler()\n",
    "X, Y = ros.fit_resample(X, Y)\n",
    "\n",
    "X_train, X_val, Y_train, Y_val = model_selection.train_test_split(X, Y, test_size = 0.3, random_state = 981)\n",
    "X_train_tensor = torch.tensor(X_train.astype(np.float32).values)\n",
    "X_val_tensor = torch.tensor(X_val.astype(np.float32).values)\n",
    "Y_train_tensor = torch.tensor(Y_train.values)\n",
    "Y_val_tensor = torch.tensor(Y_val.values)"
   ]
  },
  {
   "cell_type": "code",
   "execution_count": 90,
   "id": "5ab3a698",
   "metadata": {},
   "outputs": [
    {
     "name": "stdout",
     "output_type": "stream",
     "text": [
      "The AUC of Neural Network with one hidden layer and no activation function is: 0.8184289752397834\n"
     ]
    }
   ],
   "source": [
    "model = nn.Sequential(\n",
    "    nn.Linear(D, H),\n",
    "    nn.Linear(H, H),\n",
    "    nn.Linear(H, C)\n",
    ")\n",
    "criterion = torch.nn.CrossEntropyLoss()\n",
    "optimizer = torch.optim.SGD(model.parameters(), lr=learning_rate, weight_decay=lambda_l2)\n",
    "for t in range(1000):\n",
    "    y_pred = model(X_train_tensor)\n",
    "    loss = criterion(y_pred, Y_train_tensor)\n",
    "    score, predicted = torch.max(y_pred, 1)\n",
    "    acc = (Y_train_tensor == predicted).sum().float() / len(Y_train_tensor)\n",
    "    print(\"[EPOCH]: %i, [LOSS]: %.6f, [ACCURACY]: %.3f\" % (t, loss.item(), acc))\n",
    "    display.clear_output(wait=True)\n",
    "    optimizer.zero_grad()\n",
    "    loss.backward()\n",
    "    optimizer.step()\n",
    "    \n",
    "Y_pred = model(X_val_tensor)\n",
    "fpr, tpr, threshold = metrics.roc_curve(Y_val, Y_pred.detach().numpy()[:,1])\n",
    "auc = metrics.auc(fpr, tpr)\n",
    "print(\"The AUC of Neural Network with one hidden layer and no activation function is:\", auc)"
   ]
  },
  {
   "cell_type": "code",
   "execution_count": 83,
   "id": "6a6074bd",
   "metadata": {},
   "outputs": [
    {
     "name": "stdout",
     "output_type": "stream",
     "text": [
      "The AUC of Neural Network with one hidden layer and ReLU as activation function is: 0.8187577279657345\n"
     ]
    }
   ],
   "source": [
    "model = nn.Sequential(\n",
    "    nn.Linear(D, H),\n",
    "    nn.ReLU(),\n",
    "    nn.Linear(H, C)\n",
    ")\n",
    "criterion = torch.nn.CrossEntropyLoss()\n",
    "optimizer = torch.optim.SGD(model.parameters(), lr=learning_rate, weight_decay=lambda_l2)\n",
    "for t in range(1000):\n",
    "    y_pred = model(X_train_tensor)\n",
    "    loss = criterion(y_pred, Y_train_tensor)\n",
    "    score, predicted = torch.max(y_pred, 1)\n",
    "    acc = (Y_train_tensor == predicted).sum().float() / len(Y_train_tensor)\n",
    "    print(\"[EPOCH]: %i, [LOSS]: %.6f, [ACCURACY]: %.3f\" % (t, loss.item(), acc))\n",
    "    display.clear_output(wait=True)\n",
    "    optimizer.zero_grad()\n",
    "    loss.backward()\n",
    "    optimizer.step()\n",
    "    \n",
    "Y_pred = model(X_val_tensor)\n",
    "fpr_relu_one, tpr_relu_one, threshold = metrics.roc_curve(Y_val, Y_pred.detach().numpy()[:,1])\n",
    "auc_relu_one = metrics.auc(fpr_relu_one, tpr_relu_one)\n",
    "print(\"The AUC of Neural Network with one hidden layer and ReLU as activation function is:\", auc_relu_one)"
   ]
  },
  {
   "cell_type": "code",
   "execution_count": 84,
   "id": "b3e3979e",
   "metadata": {},
   "outputs": [
    {
     "name": "stdout",
     "output_type": "stream",
     "text": [
      "The AUC of Neural Network with three hidden layers and ReLU as activation function is: 0.8202640373563199\n"
     ]
    }
   ],
   "source": [
    "model = nn.Sequential(\n",
    "    nn.Linear(D, H),\n",
    "    nn.ReLU(),\n",
    "    nn.Linear(H, H),\n",
    "    nn.ReLU(),\n",
    "    nn.Linear(H, C)\n",
    ")\n",
    "criterion = torch.nn.CrossEntropyLoss()\n",
    "optimizer = torch.optim.SGD(model.parameters(), lr=learning_rate, weight_decay=lambda_l2)\n",
    "for t in range(1000):\n",
    "    y_pred = model(X_train_tensor)\n",
    "    loss = criterion(y_pred, Y_train_tensor)\n",
    "    score, predicted = torch.max(y_pred, 1)\n",
    "    acc = (Y_train_tensor == predicted).sum().float() / len(Y_train_tensor)\n",
    "    print(\"[EPOCH]: %i, [LOSS]: %.6f, [ACCURACY]: %.3f\" % (t, loss.item(), acc))\n",
    "    display.clear_output(wait=True)\n",
    "    optimizer.zero_grad()\n",
    "    loss.backward()\n",
    "    optimizer.step()\n",
    "Y_pred = model(X_val_tensor)\n",
    "fpr_relu_two, tpr_relu_two, threshold = metrics.roc_curve(Y_val, Y_pred.detach().numpy()[:,1])\n",
    "auc_relu_two = metrics.auc(fpr_relu_two, tpr_relu_two)\n",
    "print(\"The AUC of Neural Network with three hidden layers and ReLU as activation function is:\", auc_relu_two)"
   ]
  },
  {
   "cell_type": "code",
   "execution_count": 85,
   "id": "20ecd182",
   "metadata": {},
   "outputs": [
    {
     "name": "stdout",
     "output_type": "stream",
     "text": [
      "The AUC of Neural Network with five hidden layers and ReLU as activation function is: 0.8215766559729653\n"
     ]
    }
   ],
   "source": [
    "model = nn.Sequential(\n",
    "    nn.Linear(D, H),\n",
    "    nn.ReLU(),\n",
    "    nn.Linear(H, H),\n",
    "    nn.ReLU(),\n",
    "    nn.Linear(H, H),\n",
    "    nn.ReLU(),\n",
    "    nn.Linear(H, C)\n",
    ")\n",
    "criterion = torch.nn.CrossEntropyLoss()\n",
    "optimizer = torch.optim.SGD(model.parameters(), lr=learning_rate, weight_decay=lambda_l2)\n",
    "for t in range(1000):\n",
    "    y_pred = model(X_train_tensor)\n",
    "    loss = criterion(y_pred, Y_train_tensor)\n",
    "    score, predicted = torch.max(y_pred, 1)\n",
    "    acc = (Y_train_tensor == predicted).sum().float() / len(Y_train_tensor)\n",
    "    print(\"[EPOCH]: %i, [LOSS]: %.6f, [ACCURACY]: %.3f\" % (t, loss.item(), acc))\n",
    "    display.clear_output(wait=True)\n",
    "    optimizer.zero_grad()\n",
    "    loss.backward()\n",
    "    optimizer.step()\n",
    "Y_pred = model(X_val_tensor)\n",
    "fpr_relu_three, tpr_relu_three, threshold = metrics.roc_curve(Y_val, Y_pred.detach().numpy()[:,1])\n",
    "auc_relu_three = metrics.auc(fpr_relu_three, tpr_relu_three)\n",
    "print(\"The AUC of Neural Network with five hidden layers and ReLU as activation function is:\", auc_relu_three)"
   ]
  },
  {
   "cell_type": "code",
   "execution_count": 86,
   "id": "d234470e",
   "metadata": {},
   "outputs": [
    {
     "name": "stdout",
     "output_type": "stream",
     "text": [
      "The AUC of Neural Network with one hidden layer and Sigmoid as activation function is: 0.8192853251102687\n"
     ]
    }
   ],
   "source": [
    "model = nn.Sequential(\n",
    "    nn.Linear(D, H),\n",
    "    nn.Sigmoid(),\n",
    "    nn.Linear(H, C),\n",
    ")\n",
    "criterion = torch.nn.CrossEntropyLoss()\n",
    "optimizer = torch.optim.SGD(model.parameters(), lr=learning_rate, weight_decay=lambda_l2) \n",
    "for t in range(1000):\n",
    "    y_pred = model(X_train_tensor)\n",
    "    loss = criterion(y_pred, Y_train_tensor)\n",
    "    score, predicted = torch.max(y_pred, 1)\n",
    "    acc = (Y_train_tensor == predicted).sum().float() / len(Y_train_tensor)\n",
    "    print(\"[EPOCH]: %i, [LOSS]: %.6f, [ACCURACY]: %.3f\" % (t, loss.item(), acc))\n",
    "    display.clear_output(wait=True)\n",
    "    optimizer.zero_grad()\n",
    "    loss.backward()\n",
    "    optimizer.step()    \n",
    "Y_pred = model(X_val_tensor)\n",
    "fpr_sig_one, tpr_sig_one, threshold = metrics.roc_curve(Y_val, Y_pred.detach().numpy()[:,1])\n",
    "auc_sig_one = metrics.auc(fpr_sig_one, tpr_sig_one)\n",
    "print(\"The AUC of Neural Network with one hidden layer and Sigmoid as activation function is:\", auc_sig_one)"
   ]
  },
  {
   "cell_type": "code",
   "execution_count": 87,
   "id": "0dafd748",
   "metadata": {},
   "outputs": [
    {
     "name": "stdout",
     "output_type": "stream",
     "text": [
      "The AUC of Neural Network with three hidden layers and Sigmoid as activation function is: 0.8043591118282638\n"
     ]
    }
   ],
   "source": [
    "model = nn.Sequential(\n",
    "    nn.Linear(D, H),\n",
    "    nn.Sigmoid(),\n",
    "    nn.Linear(H, H),\n",
    "    nn.Sigmoid(),\n",
    "    nn.Linear(H, C),\n",
    ")\n",
    "criterion = torch.nn.CrossEntropyLoss()\n",
    "optimizer = torch.optim.SGD(model.parameters(), lr=learning_rate, weight_decay=lambda_l2)\n",
    "for t in range(1000):\n",
    "    y_pred = model(X_train_tensor)\n",
    "    loss = criterion(y_pred, Y_train_tensor)\n",
    "    score, predicted = torch.max(y_pred, 1)\n",
    "    acc = (Y_train_tensor == predicted).sum().float() / len(Y_train_tensor)\n",
    "    print(\"[EPOCH]: %i, [LOSS]: %.6f, [ACCURACY]: %.3f\" % (t, loss.item(), acc))\n",
    "    display.clear_output(wait=True)\n",
    "    optimizer.zero_grad()\n",
    "    loss.backward()\n",
    "    optimizer.step()  \n",
    "Y_pred = model(X_val_tensor)\n",
    "fpr_sig_two, tpr_sig_two, threshold = metrics.roc_curve(Y_val, Y_pred.detach().numpy()[:,1])\n",
    "auc_sig_two = metrics.auc(fpr_sig_two, tpr_sig_two)\n",
    "print(\"The AUC of Neural Network with three hidden layers and Sigmoid as activation function is:\", auc_sig_two)"
   ]
  },
  {
   "cell_type": "code",
   "execution_count": 88,
   "id": "afedcb80",
   "metadata": {},
   "outputs": [
    {
     "name": "stdout",
     "output_type": "stream",
     "text": [
      "The AUC of Neural Network with five hidden layers and Sigmoid as activation function is: 0.7368810685110578\n"
     ]
    }
   ],
   "source": [
    "model = nn.Sequential(\n",
    "    nn.Linear(D, H),\n",
    "    nn.Sigmoid(),\n",
    "    nn.Linear(H, H),\n",
    "    nn.Sigmoid(),\n",
    "    nn.Linear(H, H),\n",
    "    nn.Sigmoid(),\n",
    "    nn.Linear(H, C),\n",
    ")\n",
    "criterion = torch.nn.CrossEntropyLoss()\n",
    "optimizer = torch.optim.SGD(model.parameters(), lr=learning_rate, weight_decay=lambda_l2)\n",
    "for t in range(1000):\n",
    "    y_pred = model(X_train_tensor)\n",
    "    loss = criterion(y_pred, Y_train_tensor)\n",
    "    score, predicted = torch.max(y_pred, 1)\n",
    "    acc = (Y_train_tensor == predicted).sum().float() / len(Y_train_tensor)\n",
    "    print(\"[EPOCH]: %i, [LOSS]: %.6f, [ACCURACY]: %.3f\" % (t, loss.item(), acc))\n",
    "    display.clear_output(wait=True)\n",
    "    optimizer.zero_grad()\n",
    "    loss.backward()\n",
    "    optimizer.step()  \n",
    "Y_pred = model(X_val_tensor)\n",
    "fpr_sig_three, tpr_sig_three, threshold = metrics.roc_curve(Y_val, Y_pred.detach().numpy()[:,1])\n",
    "auc_sig_three = metrics.auc(fpr_sig_three, tpr_sig_three)\n",
    "print(\"The AUC of Neural Network with five hidden layers and Sigmoid as activation function is:\", auc_sig_three)"
   ]
  },
  {
   "cell_type": "code",
   "execution_count": 95,
   "id": "a0ad6788",
   "metadata": {},
   "outputs": [
    {
     "data": {
      "image/png": "[encoded data removed]",
      "text/plain": [
       "<Figure size 432x288 with 1 Axes>"
      ]
     },
     "metadata": {
      "needs_background": "light"
     },
     "output_type": "display_data"
    }
   ],
   "source": [
    "plt.title('Receiver Operating Characteristic')\n",
    "plt.plot(fpr, tpr, 'y', label = 'AUC of NN, 1 Layer = %0.5f' % auc)\n",
    "plt.plot(fpr_relu_one, tpr_relu_one, 'b', label = 'AUC of NN, ReLU, 1 Layer = %0.5f' % auc_relu_one)\n",
    "plt.plot(fpr_relu_two, tpr_relu_two, 'c', label = 'AUC of NN, ReLU, 3 Layers = %0.5f' % auc_relu_two)\n",
    "plt.plot(fpr_relu_one, tpr_relu_one, 'k', label = 'AUC of NN, ReLU, 5 Layer = %0.5f' % auc_relu_three)\n",
    "plt.plot(fpr_sig_one, tpr_sig_one, 'g', label = 'AUC of NN, Sigmoid, 1 Layer = %0.5f' % auc_sig_one)\n",
    "plt.plot(fpr_sig_two, tpr_sig_two, 'm', label = 'AUC of NN, Sigmoid, 3 Layers = %0.5f' % auc_sig_two)\n",
    "plt.plot(fpr_sig_two, tpr_sig_two, 'r', label = 'AUC of NN, Sigmoid, 5 Layers = %0.5f' % auc_sig_three)\n",
    "plt.legend(loc = 'lower right')\n",
    "plt.plot([0, 1], [0, 1],'r--')\n",
    "plt.xlim([0, 1])\n",
    "plt.ylim([0, 1])\n",
    "plt.ylabel('True Positive Rate')\n",
    "plt.xlabel('False Positive Rate')\n",
    "plt.show()"
   ]
  },
  {
   "cell_type": "markdown",
   "id": "bdbc375d",
   "metadata": {},
   "source": [
    "* In the first section, I use an undersampler to make the data balance. In the second section, I huild and train a neural network model with one hidden layer, using no activation function. In the third to fifth section, I build and train neural network models with one hidden layer, three hidden layers, and five hidden layers, using ReLU as activation function. In the sixth section to eighth section, I build and train neural network models with one hidden layer, three hidden layers, and five hidden layers, using Sigmoid as activation function. In the last section, I plot out the ROC curve of each models above.\n",
    "* First I find that data imbalance exists. That is to say, the distribution of outcome values is highly skewed, the number of one outcome is hugely over the number of the other outcome. This affects the model performance and I solve it using an undersampler that makes the data balance. Then we need to evaluate model performance is two dimensions: different numbers of hidden layers and different activation functions, so I make different models with different numbers of hidden layers and different activation functions to make the comparison.\n",
    "* Obeservations:\n",
    "    * The AUC of model with 1 hidden layer and no activation function is around 0.81843\n",
    "    * The AUC of model with 1 hidden layer and ReLU activation function is around 0.81876\n",
    "    * The AUC of model with 3 hidden layers and ReLU activation function is around 0.82026\n",
    "    * The AUC of model with 5 hidden layers and ReLu activation function is around 0.82158\n",
    "    * The AUC of model with 1 hidden layer and Sigmoid activation function is around 0.81929\n",
    "    * The AUC of model with 3 hidden layers and Sigmoid activation function is around 0.80436\n",
    "    * The AUC of model with 5 hidden layers and Sigmoid activation function is around 0.73688\n",
    "    * The AUC of model with 1 hidden layers and no activation function is higher than a Perceptron.\n",
    "    * The AUC of model using ReLU increase as the number of hidden layers increases.\n",
    "    * The AUC of model using Sigmoid decrease as the number of hidden layers increases.\n",
    "    * For all models with 1 hidden layer, AUC of the one with no activation function < AUC of the one with Sigmoid activation function < AUC of the one with ReLU activation function \n",
    "* Including hidden layer(s) may make the model perform better, as in some cases, AUC increase (ReLU example). However, sometimes adding too many layers might negtively impact the model performance, such as the Sigmoid example. This might be due to overfitting. With one hidden layer using no activation function, Sigmoid, or ReLU, the model performance becomes better than perceptron."
   ]
  },
  {
   "cell_type": "markdown",
   "id": "62724661",
   "metadata": {},
   "source": [
    "## Question 3\n",
    "*Build and train a “deep” network (at least 2 hidden layers) to classify diabetes from the rest of the dataset. Given the nature of this dataset, is there a benefit of using a CNN or RNN for the classification?*"
   ]
  },
  {
   "cell_type": "code",
   "execution_count": 98,
   "id": "604ef9be",
   "metadata": {},
   "outputs": [
    {
     "name": "stdout",
     "output_type": "stream",
     "text": [
      "The AUC of Neural Network with seven hidden layers and ReLU as activation function is: 0.8230181112590503\n"
     ]
    }
   ],
   "source": [
    "model = nn.Sequential(\n",
    "    nn.Linear(D, H),\n",
    "    nn.ReLU(),\n",
    "    nn.Linear(H, H),\n",
    "    nn.ReLU(),\n",
    "    nn.Linear(H, H),\n",
    "    nn.ReLU(),\n",
    "    nn.Linear(H, H),\n",
    "    nn.ReLU(),\n",
    "    nn.Linear(H, C),\n",
    ")\n",
    "criterion = torch.nn.CrossEntropyLoss()\n",
    "optimizer = torch.optim.SGD(model.parameters(), lr=learning_rate, weight_decay=lambda_l2)\n",
    "for t in range(1000):\n",
    "    y_pred = model(X_train_tensor)\n",
    "    loss = criterion(y_pred, Y_train_tensor)\n",
    "    score, predicted = torch.max(y_pred, 1)\n",
    "    acc = (Y_train_tensor == predicted).sum().float() / len(Y_train_tensor)\n",
    "    print(\"[EPOCH]: %i, [LOSS]: %.6f, [ACCURACY]: %.3f\" % (t, loss.item(), acc))\n",
    "    display.clear_output(wait=True)\n",
    "    optimizer.zero_grad()\n",
    "    loss.backward()\n",
    "    optimizer.step()\n",
    "    \n",
    "Y_pred = model(X_val_tensor)\n",
    "fpr, tpr, threshold = metrics.roc_curve(Y_val, Y_pred.detach().numpy()[:,1])\n",
    "auc_nn = metrics.auc(fpr, tpr)\n",
    "print(\"The AUC of Neural Network with seven hidden layers and ReLU as activation function is:\", auc_nn)"
   ]
  },
  {
   "cell_type": "code",
   "execution_count": 100,
   "id": "d6cb6623",
   "metadata": {},
   "outputs": [
    {
     "data": {
      "image/png": "[encoded data removed]",
      "text/plain": [
       "<Figure size 432x288 with 1 Axes>"
      ]
     },
     "metadata": {
      "needs_background": "light"
     },
     "output_type": "display_data"
    }
   ],
   "source": [
    "plt.title('Receiver Operating Characteristic')\n",
    "plt.plot(fpr, tpr, 'b', label = 'AUC of NN, ReLU, 7 Layers = %0.5f' % auc_nn)\n",
    "plt.legend(loc = 'lower right')\n",
    "plt.plot([0, 1], [0, 1],'r--')\n",
    "plt.xlim([0, 1])\n",
    "plt.ylim([0, 1])\n",
    "plt.ylabel('True Positive Rate')\n",
    "plt.xlabel('False Positive Rate')\n",
    "plt.show()"
   ]
  },
  {
   "cell_type": "markdown",
   "id": "591921e9",
   "metadata": {},
   "source": [
    "* In the code, I build and train a severn-hidden-layer \"deep\" neural network model, find its AUC and plot its ROC curve.\n",
    "* The question requires me to build and train a neural network model with at least 2 hidden layers. I already built several \"deep\" neural network models in the previous question, so I build a deeper one in this question and find its AUC.\n",
    "* The AUC of Neural Network with seven hidden layers and ReLU as activation function is around 0.82302, which performs best so far.\n",
    "* For this dataset, I think using CNN is a better choice than using RNN. We are doing binary classification in this question and most of our predictors are binary data (0 and 1), which could be a usage scenario for CNN. Also, the sizes of input data and output data are fixed, and there is no temporal or sequential data, which means we do not need to do recurring. Thus, CNN is a better choice for this data set. However, both CNN and RNN have their own more suitible usage scenario. For example, using CNN for image classification and recogination, and using RNN for speech data and video data. There are better options other than CNN and RNN."
   ]
  },
  {
   "cell_type": "markdown",
   "id": "c083e990",
   "metadata": {},
   "source": [
    "## Question 4\n",
    "*Build and train a feedforward neural network with one hidden layer to predict BMI from the rest of the dataset. Use RMSE to assess the accuracy of your model. Does the RMSE depend on the activation function used?*"
   ]
  },
  {
   "cell_type": "code",
   "execution_count": 101,
   "id": "cbb6f010",
   "metadata": {},
   "outputs": [],
   "source": [
    "X = df.drop(['BMI'], axis=1)\n",
    "Y = df['BMI']\n",
    "X_train, X_val, Y_train, Y_val = model_selection.train_test_split(X, Y, test_size = 0.3, random_state = 981)\n",
    "X_train_tensor = torch.tensor(X_train.astype(np.float32).values)\n",
    "X_val_tensor = torch.tensor(X_val.astype(np.float32).values)\n",
    "Y_train_tensor = torch.from_numpy(Y_train.values).reshape([len(Y_train.values),1])\n",
    "Y_val_tensor = torch.from_numpy(Y_val.values).reshape([len(Y_val.values),1])\n",
    "D = 21\n",
    "C = 1\n",
    "H = 20\n",
    "learning_rate = 1e-3\n",
    "lambda_l2 = 1e-5"
   ]
  },
  {
   "cell_type": "code",
   "execution_count": 106,
   "id": "6b575373",
   "metadata": {},
   "outputs": [
    {
     "name": "stdout",
     "output_type": "stream",
     "text": [
      "[EPOCH]: 999, [LOSS or RMSE]: 0.969988\n"
     ]
    }
   ],
   "source": [
    "model = nn.Sequential(\n",
    "    nn.Linear(D, H),\n",
    "    nn.Linear(H, H),\n",
    "    nn.Linear(H, C)\n",
    ")\n",
    "criterion = torch.nn.MSELoss()\n",
    "optimizer = torch.optim.SGD(model.parameters(), lr=learning_rate, weight_decay=lambda_l2)\n",
    "for t in range(1000):\n",
    "    y_pred = model(X_train_tensor.float())\n",
    "    loss = torch.sqrt(criterion(y_pred.float(), Y_train_tensor.float()))\n",
    "    print(\"[EPOCH]: %i, [LOSS or RMSE]: %.6f\" % (t, loss.item()))\n",
    "    display.clear_output(wait=True)\n",
    "    optimizer.zero_grad()\n",
    "    loss.backward()\n",
    "    optimizer.step()"
   ]
  },
  {
   "cell_type": "code",
   "execution_count": 103,
   "id": "8cfde13a",
   "metadata": {},
   "outputs": [
    {
     "name": "stdout",
     "output_type": "stream",
     "text": [
      "[EPOCH]: 999, [LOSS or RMSE]: 1.002501\n"
     ]
    }
   ],
   "source": [
    "model = nn.Sequential(\n",
    "    nn.Linear(D, H),\n",
    "    nn.Sigmoid(),\n",
    "    nn.Linear(H, C)\n",
    ")\n",
    "criterion = torch.nn.MSELoss()\n",
    "optimizer = torch.optim.SGD(model.parameters(), lr=learning_rate, weight_decay=lambda_l2)\n",
    "for t in range(1000):\n",
    "    y_pred = model(X_train_tensor.float())\n",
    "    loss = torch.sqrt(criterion(y_pred.float(), Y_train_tensor.float()))\n",
    "    print(\"[EPOCH]: %i, [LOSS or RMSE]: %.6f\" % (t, loss.item()))\n",
    "    display.clear_output(wait=True)\n",
    "    optimizer.zero_grad()\n",
    "    loss.backward()\n",
    "    optimizer.step()"
   ]
  },
  {
   "cell_type": "code",
   "execution_count": 104,
   "id": "17e59657",
   "metadata": {},
   "outputs": [
    {
     "name": "stdout",
     "output_type": "stream",
     "text": [
      "[EPOCH]: 999, [LOSS or RMSE]: 0.974209\n"
     ]
    }
   ],
   "source": [
    "model = nn.Sequential(\n",
    "    nn.Linear(D, H),\n",
    "    nn.ReLU(),\n",
    "    nn.Linear(H, C)\n",
    ")\n",
    "criterion = torch.nn.MSELoss()\n",
    "optimizer = torch.optim.SGD(model.parameters(), lr=learning_rate, weight_decay=lambda_l2)\n",
    "for t in range(1000):\n",
    "    y_pred = model(X_train_tensor.float())\n",
    "    loss = torch.sqrt(criterion(y_pred.float(), Y_train_tensor.float()))\n",
    "    print(\"[EPOCH]: %i, [LOSS or RMSE]: %.6f\" % (t, loss.item()))\n",
    "    display.clear_output(wait=True)\n",
    "    optimizer.zero_grad()\n",
    "    loss.backward()\n",
    "    optimizer.step()"
   ]
  },
  {
   "cell_type": "markdown",
   "id": "840b20ce",
   "metadata": {},
   "source": [
    "* In the first section, I split the data into training set and testing set for BMI prediction. Then, I build four neural network models, each with one hidden layer but with different activation functions: no activation function, Sigmoid, and ReLU. For each model, I calculate the RMSE after 1000 traing loops.\n",
    "* Building models with/without or with different activation functions and find corresponding RMSE can tell the performance of model and if RMSE depends on activation functions. The lower the RMSE, the less errors will happen, the more accurate the model. \n",
    "* Observation:\n",
    "    * The RMSE of the model with one hidden layer with no activation function is 0.969988.\n",
    "    * The RMSE of the model with one hidden layer with Sigmoid activation function is 1.002501.\n",
    "    * The RMSE of the model with one hidden layer with ReLU activation function is 0.974209.\n",
    "* The model without activation function has the highest RMSE, which means the higest accuracy. Using ReLU as activation function slighly increases the RMSE. Using Sigmoid increases more RMSE. The activation function used will influnce RMSE. But it is hard to say if RMSE depends on the activation function since \"depends\" indicates a pretty strong correlation, which is not that obvious from my comparison."
   ]
  },
  {
   "cell_type": "markdown",
   "id": "7d21e03b",
   "metadata": {},
   "source": [
    "## Question 5\n",
    "*Build and train a neural network of your choice to predict BMI from the rest of your dataset. How low can you get RMSE and what design choices does RMSE seem to depend on?*"
   ]
  },
  {
   "cell_type": "code",
   "execution_count": 135,
   "id": "5aed7e33",
   "metadata": {},
   "outputs": [
    {
     "name": "stdout",
     "output_type": "stream",
     "text": [
      "[EPOCH]: 999, [LOSS or RMSE]: 0.932307\n"
     ]
    }
   ],
   "source": [
    "learning_rate = 1e-2\n",
    "lambda_l2 = 1e-2\n",
    "model = nn.Sequential(\n",
    "    nn.Linear(D, H),\n",
    "    nn.ReLU(),\n",
    "    nn.Linear(H, C)\n",
    ")\n",
    "criterion = torch.nn.MSELoss()\n",
    "optimizer = torch.optim.SGD(model.parameters(), lr=learning_rate, weight_decay=lambda_l2)\n",
    "\n",
    "for t in range(1000):\n",
    "    y_pred = model(X_train_tensor.float())\n",
    "    loss = torch.sqrt(criterion(y_pred.float(), Y_train_tensor.float()))\n",
    "    print(\"[EPOCH]: %i, [LOSS or RMSE]: %.6f\" % (t, loss.item()))\n",
    "    display.clear_output(wait=True)\n",
    "    optimizer.zero_grad()\n",
    "    loss.backward()\n",
    "    optimizer.step()"
   ]
  },
  {
   "cell_type": "markdown",
   "id": "ca7c8840",
   "metadata": {},
   "source": [
    "* I alter the learning rate and weight decay and build a neural network model with one hidden layer and using ReLU activation function.\n",
    "* I guess other than activation function used, the number of hidden layers, learning rate and weight decay could be the factors affect the RMSE. Therefore, I tried different models with different structures and numbers. Finally, I keep the one with the lowest RMSE.\n",
    "* The model with one hidden layer and ReLU as activation function with learning rate 0.01 and weight decay 0.01 has RMSE 0.932307.\n",
    "* The lowest RMSE I can get is 0.932307."
   ]
  },
  {
   "cell_type": "markdown",
   "id": "a0957dd0",
   "metadata": {},
   "source": [
    "## Extra 1"
   ]
  },
  {
   "cell_type": "code",
   "execution_count": 138,
   "id": "755cf3cd",
   "metadata": {},
   "outputs": [],
   "source": [
    "df = pd.read_csv('diabetes.csv')\n",
    "X = df.iloc[:, 1:]\n",
    "X_num = X[['BMI', 'MentalHealth', 'PhysicalHealth', 'AgeBracket', 'IncomeBracket']]\n",
    "X_norm = (X_num - X_num.mean())/X_num.std()\n",
    "X_other = X.drop(['BMI', 'MentalHealth', 'PhysicalHealth', 'AgeBracket', 'IncomeBracket'], axis=1)\n",
    "X = pd.concat([X_norm, X_other], axis=1, join='inner')\n",
    "Y = df['Diabetes']"
   ]
  },
  {
   "cell_type": "code",
   "execution_count": 149,
   "id": "b676d272",
   "metadata": {},
   "outputs": [
    {
     "name": "stdout",
     "output_type": "stream",
     "text": [
      "The AUC of Neural Network with one hidden layer and no activation function is: 0.805064009467054\n"
     ]
    }
   ],
   "source": [
    "learning_rate = 1e-1\n",
    "lambda_l2 = 1e-5\n",
    "D = 21\n",
    "C = 2\n",
    "H = 20\n",
    "\n",
    "ros = RandomUnderSampler()\n",
    "X, Y = ros.fit_resample(X, Y)\n",
    "\n",
    "X_train, X_val, Y_train, Y_val = model_selection.train_test_split(X, Y, test_size = 0.3, random_state = 981)\n",
    "X_train_tensor = torch.tensor(X_train.astype(np.float32).values)\n",
    "X_val_tensor = torch.tensor(X_val.astype(np.float32).values)\n",
    "Y_train_tensor = torch.tensor(Y_train.values)\n",
    "Y_val_tensor = torch.tensor(Y_val.values)\n",
    "\n",
    "model = nn.Sequential(\n",
    "    nn.Linear(D, H),\n",
    "    nn.Linear(H, C)\n",
    ")\n",
    "criterion = torch.nn.CrossEntropyLoss()\n",
    "optimizer = torch.optim.SGD(model.parameters(), lr=learning_rate, weight_decay=lambda_l2)\n",
    "for t in range(100):\n",
    "    y_pred = model(X_train_tensor)\n",
    "    loss = criterion(y_pred, Y_train_tensor)\n",
    "    score, predicted = torch.max(y_pred, 1)\n",
    "    acc = (Y_train_tensor == predicted).sum().float() / len(Y_train_tensor)\n",
    "    print(\"[EPOCH]: %i, [LOSS]: %.6f, [ACCURACY]: %.3f\" % (t, loss.item(), acc))\n",
    "    display.clear_output(wait=True)\n",
    "    optimizer.zero_grad()\n",
    "    loss.backward()\n",
    "    optimizer.step()\n",
    "    \n",
    "Y_pred = model(X_val_tensor)\n",
    "fpr, tpr, threshold = metrics.roc_curve(Y_val, Y_pred.detach().numpy()[:,1])\n",
    "auc = metrics.auc(fpr, tpr)\n",
    "print(\"The AUC of Neural Network with one hidden layer and no activation function is:\", auc)"
   ]
  },
  {
   "cell_type": "code",
   "execution_count": 150,
   "id": "afc48c34",
   "metadata": {},
   "outputs": [
    {
     "name": "stdout",
     "output_type": "stream",
     "text": [
      "AUC of model with BMI dropped is:                                  0.78091\n",
      "AUC of model with MentalHealth dropped is:                         0.79715\n",
      "AUC of model with PhysicalHealth dropped is:                       0.80829\n",
      "AUC of model with AgeBracket dropped is:                           0.79778\n",
      "AUC of model with IncomeBracket dropped is:                        0.81010\n",
      "AUC of model with HighBP dropped is:                               0.78351\n",
      "AUC of model with HighChol dropped is:                             0.78729\n",
      "AUC of model with Smoker dropped is:                               0.75545\n",
      "AUC of model with Stroke dropped is:                               0.79652\n",
      "AUC of model with Myocardial dropped is:                           0.79497\n",
      "AUC of model with PhysActivity dropped is:                         0.80185\n",
      "AUC of model with Fruit dropped is:                                0.80725\n",
      "AUC of model with Vegetables dropped is:                           0.79169\n",
      "AUC of model with HeavyDrinker dropped is:                         0.78750\n",
      "AUC of model with HasHealthcare dropped is:                        0.80299\n",
      "AUC of model with NotAbleToAffordDoctor dropped is:                0.80112\n",
      "AUC of model with GeneralHealth dropped is:                        0.78486\n",
      "AUC of model with HardToClimbStairs dropped is:                    0.77920\n",
      "AUC of model with BiologicalSex dropped is:                        0.78102\n",
      "AUC of model with EducationBracket dropped is:                     0.80421\n",
      "AUC of model with Zodiac dropped is:                               0.80239\n"
     ]
    }
   ],
   "source": [
    "for i in range(len(X.columns)):\n",
    "    D = 20\n",
    "    X_train_new = X_train.drop(X_train.columns[i], axis = 1)\n",
    "    X_val_new = X_val.drop(X_val.columns[i], axis = 1)   \n",
    "    X_train_tensor_new = torch.tensor(X_train_new.astype(np.float32).values)\n",
    "    X_val_tensor_new = torch.tensor(X_val_new.astype(np.float32).values)\n",
    "\n",
    "    model = nn.Sequential(\n",
    "    nn.Linear(D, H),\n",
    "    nn.Linear(H, C)\n",
    "    )\n",
    "    criterion = torch.nn.CrossEntropyLoss()\n",
    "    optimizer = torch.optim.SGD(model.parameters(), lr=learning_rate, weight_decay=lambda_l2)\n",
    "    for t in range(100):\n",
    "        y_pred = model(X_train_tensor_new)\n",
    "        loss = criterion(y_pred, Y_train_tensor)\n",
    "        score, predicted = torch.max(y_pred, 1)\n",
    "        optimizer.zero_grad()\n",
    "        loss.backward()\n",
    "        optimizer.step()\n",
    "    Y_pred = model(X_val_tensor_new)\n",
    "    fpr, tpr, threshold = metrics.roc_curve(Y_val, Y_pred.detach().numpy()[:,1])\n",
    "    auc = metrics.auc(fpr, tpr)\n",
    "    print('{:67s}{:.5f}'.format('AUC of model with {} dropped is: '.format(X_train.columns[i]), auc))"
   ]
  },
  {
   "cell_type": "markdown",
   "id": "1708e708",
   "metadata": {},
   "source": [
    "* In the code, I first build a neural network model with no hidden layer or activation function and find its AUC. Then I dropped each columns and find different model's AUC.\n",
    "* By comparing the AUC change, we could tell which predictor has what kind of impact to the model.\n",
    "* Every predictors have impact on the model more or less, but some of them have very minor impact. They are: Fruit, HasHealthcare, NotAbleToAffordDoctor, EducationBracket and Zodiac.\n",
    "* The predictors that have effectively no impact are Fruit, HasHealthcare, NotAbleToAffordDoctor, EducationBracket and Zodiac."
   ]
  },
  {
   "cell_type": "markdown",
   "id": "371260fc",
   "metadata": {},
   "source": [
    "# Extra 2"
   ]
  },
  {
   "cell_type": "markdown",
   "id": "000f0bdb",
   "metadata": {},
   "source": [
    "* Pro:\n",
    "    * Neural network models can be built in a shorter time compared to the classical methods in the previous homework.\n",
    "    * The AUC of neural network models are slightly higher than AUC of the classical methods.\n",
    "    * Neural network model could be used for classification and prediction. Most of the classical method can only do one thing, either classification or prediction.\n",
    "* Cons:\n",
    "    * Problems like exploding gradient or vanishing gradient might occur.\n",
    "    * It is less \"meaningful\" compared to the classical methods I used in the last homework. More stuffs are in the black box.\n",
    "* Overall:\n",
    "    * There is no overall answer that which model is always better than the others. It is necessary to examine the data carefully before choosing which model to build and the results from the models."
   ]
  },
  {
   "cell_type": "code",
   "execution_count": null,
   "id": "80140a36",
   "metadata": {},
   "outputs": [],
   "source": []
  }
 ],
 "metadata": {
  "kernelspec": {
   "display_name": "Python 3 (ipykernel)",
   "language": "python",
   "name": "python3"
  },
  "language_info": {
   "codemirror_mode": {
    "name": "ipython",
    "version": 3
   },
   "file_extension": ".py",
   "mimetype": "text/x-python",
   "name": "python",
   "nbconvert_exporter": "python",
   "pygments_lexer": "ipython3",
   "version": "3.8.5"
  }
 },
 "nbformat": 4,
 "nbformat_minor": 5
}
