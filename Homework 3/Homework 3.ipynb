{
 "cells": [
  {
   "cell_type": "markdown",
   "id": "1f0fad82",
   "metadata": {},
   "source": [
    "# Homework 3\n",
    "## Package Import and Data Processing"
   ]
  },
  {
   "cell_type": "code",
   "execution_count": 2,
   "id": "31e0c3b4",
   "metadata": {},
   "outputs": [],
   "source": [
    "import numpy as np\n",
    "import pandas as pd\n",
    "import sklearn\n",
    "from sklearn import metrics, model_selection, tree, ensemble, calibration\n",
    "import matplotlib.pyplot as plt\n",
    "df = pd.read_csv('diabetes.csv')\n",
    "X = df.iloc[:, 1:]\n",
    "Y = df['Diabetes']"
   ]
  },
  {
   "cell_type": "markdown",
   "id": "fbab5063",
   "metadata": {},
   "source": [
    "## Question 1\n",
    "*Build a logistic regression model. Doing so: What is the best predictor of diabetes and what is the AUC of this model?*"
   ]
  },
  {
   "cell_type": "code",
   "execution_count": 14,
   "id": "d7a6b006",
   "metadata": {},
   "outputs": [
    {
     "name": "stdout",
     "output_type": "stream",
     "text": [
      "AUC of logistic regression model with all predictors is:                0.81972\n",
      "AUC of logistic regression model with HighBP dropped is:                0.81173\n",
      "AUC of logistic regression model with HighChol dropped is:              0.81512\n",
      "AUC of logistic regression model with BMI dropped is:                   0.80402\n",
      "AUC of logistic regression model with Smoker dropped is:                0.81972\n",
      "AUC of logistic regression model with Stroke dropped is:                0.81960\n",
      "AUC of logistic regression model with Myocardial dropped is:            0.81884\n",
      "AUC of logistic regression model with PhysActivity dropped is:          0.81973\n",
      "AUC of logistic regression model with Fruit dropped is:                 0.81973\n",
      "AUC of logistic regression model with Vegetables dropped is:            0.81968\n",
      "AUC of logistic regression model with HeavyDrinker dropped is:          0.81835\n",
      "AUC of logistic regression model with HasHealthcare dropped is:         0.81967\n",
      "AUC of logistic regression model with NotAbleToAffordDoctor dropped is: 0.81972\n",
      "AUC of logistic regression model with GeneralHealth dropped is:         0.80406\n",
      "AUC of logistic regression model with MentalHealth dropped is:          0.81964\n",
      "AUC of logistic regression model with PhysicalHealth dropped is:        0.81963\n",
      "AUC of logistic regression model with HardToClimbStairs dropped is:     0.81962\n",
      "AUC of logistic regression model with BiologicalSex dropped is:         0.81861\n",
      "AUC of logistic regression model with AgeBracket dropped is:            0.81211\n",
      "AUC of logistic regression model with EducationBracket dropped is:      0.81967\n",
      "AUC of logistic regression model with IncomeBracket dropped is:         0.81922\n",
      "AUC of logistic regression model with Zodiac dropped is:                0.81972\n"
     ]
    }
   ],
   "source": [
    "train_data, val_data = model_selection.train_test_split(df, test_size = 0.3)\n",
    "X_train = train_data.drop('Diabetes', axis = 1)\n",
    "X_val  = val_data.drop('Diabetes', axis = 1)\n",
    "Y_train = train_data['Diabetes']\n",
    "Y_val  = val_data['Diabetes']\n",
    "\n",
    "log = sklearn.linear_model.LogisticRegression(solver = 'liblinear', class_weight = 'balanced')\n",
    "log.fit(X_train, Y_train)\n",
    "Y_pred_proba = log.predict_proba(X_val)[:,1]\n",
    "fpr, tpr, threshold = metrics.roc_curve(Y_val, Y_pred_proba)\n",
    "auc_log = metrics.auc(fpr, tpr)\n",
    "print('{:72s}{:.5f}'.format('AUC of logistic regression model with all predictors is: ', auc_log))\n",
    "\n",
    "for i in range(len(X.columns)):\n",
    "    X_train_new = X_train.drop(X_train.columns[i], axis = 1)\n",
    "    X_val_new = X_val.drop(X_val.columns[i], axis = 1)   \n",
    "    log = sklearn.linear_model.LogisticRegression(solver = 'liblinear', class_weight = 'balanced')\n",
    "    log.fit(X_train_new, Y_train)\n",
    "    Y_pred_proba = log.predict_proba(X_val_new)[:,1]\n",
    "    fpr, tpr, threshold = metrics.roc_curve(Y_val, Y_pred_proba)\n",
    "    auc_log = metrics.auc(fpr, tpr)\n",
    "    print('{:72s}{:.5f}'.format('AUC of logistic regression model with {} dropped is: '.format(X_train.columns[i]), auc_log))"
   ]
  },
  {
   "cell_type": "markdown",
   "id": "267a9aae",
   "metadata": {},
   "source": [
    "* In the code, I first split data into train and test set and use train set to build a logistic regression model with all predictors included. Then I find the AUC of this model. Then I build models with each predictor dropped and find their AUC accordingly.\n",
    "* The question requires me to find the best predictor of diabetes and the AUC of this model. One way to find the best predictor is to drop each predictors and see which drop drops the model performance the most. As AUC is a factor evaluating the performance of a model, by comparing the change of AUC after each drops could tell me which predictor is the best and the AUC of this model. The more decrease in AUC, the more the model performance is dropped and the better the predictor is.\n",
    "* The AUC of logistic regression with all predictors is about 0.81972. Excluding predictor, BMI, makes the AUC decreases to 0.80402, which has the highest decrease.\n",
    "* We could say BMI is the best predictor in logistic regression, since excluding it will drop the model performance the most."
   ]
  },
  {
   "cell_type": "markdown",
   "id": "d52a5c96",
   "metadata": {},
   "source": [
    "## Question 2\n",
    "*Build a SVM. Doing so: What is the best predictor of diabetes and what is the AUC of this model?*"
   ]
  },
  {
   "cell_type": "code",
   "execution_count": 124,
   "id": "97c65aec",
   "metadata": {},
   "outputs": [
    {
     "name": "stdout",
     "output_type": "stream",
     "text": [
      "Slack variable: 1.0000000000   CV score: 0.8631627730\n",
      "Slack variable: 0.5000000000   CV score: 0.8631852981\n",
      "Slack variable: 0.2500000000   CV score: 0.8631852987\n",
      "Slack variable: 0.1250000000   CV score: 0.8631909297\n",
      "Slack variable: 0.0625000000   CV score: 0.8631627721\n",
      "Slack variable: 0.0312500000   CV score: 0.8631852984\n",
      "Slack variable: 0.0156250000   CV score: 0.8631965606\n",
      "Slack variable: 0.0078125000   CV score: 0.8631233526\n",
      "Slack variable: 0.0039062500   CV score: 0.8630445139\n",
      "Slack variable: 0.0019531250   CV score: 0.8629656737\n"
     ]
    }
   ],
   "source": [
    "C = 1/(2**np.arange(0, 10))\n",
    "k = 10\n",
    "cv_scores = np.zeros(len(C))\n",
    "split = model_selection.KFold(k)\n",
    "for i in range(len(C)):\n",
    "    sv = sklearn.svm.LinearSVC(C = C[i], dual = False)\n",
    "    cv_scores[i] = np.mean(model_selection.cross_val_score(sv, X_train, Y_train, cv = split))\n",
    "    print('{:16s}{:.10f}   {:10s}{:.10f}'.format('Slack variable: ', C[i], \"CV score: \", cv_scores[i]))"
   ]
  },
  {
   "cell_type": "code",
   "execution_count": 15,
   "id": "aebfed75",
   "metadata": {},
   "outputs": [
    {
     "name": "stdout",
     "output_type": "stream",
     "text": [
      "AUC of SVM with all predictors is:                0.81757\n",
      "AUC of SVM with HighBP dropped is:                0.80952\n",
      "AUC of SVM with HighChol dropped is:              0.81258\n",
      "AUC of SVM with BMI dropped is:                   0.80321\n",
      "AUC of SVM with Smoker dropped is:                0.81758\n",
      "AUC of SVM with Stroke dropped is:                0.81742\n",
      "AUC of SVM with Myocardial dropped is:            0.81716\n",
      "AUC of SVM with PhysActivity dropped is:          0.81755\n",
      "AUC of SVM with Fruit dropped is:                 0.81756\n",
      "AUC of SVM with Vegetables dropped is:            0.81759\n",
      "AUC of SVM with HeavyDrinker dropped is:          0.81604\n",
      "AUC of SVM with HasHealthcare dropped is:         0.81749\n",
      "AUC of SVM with NotAbleToAffordDoctor dropped is: 0.81764\n",
      "AUC of SVM with GeneralHealth dropped is:         0.80265\n",
      "AUC of SVM with MentalHealth dropped is:          0.81751\n",
      "AUC of SVM with PhysicalHealth dropped is:        0.81751\n",
      "AUC of SVM with HardToClimbStairs dropped is:     0.81744\n",
      "AUC of SVM with BiologicalSex dropped is:         0.81618\n",
      "AUC of SVM with AgeBracket dropped is:            0.81010\n",
      "AUC of SVM with EducationBracket dropped is:      0.81751\n",
      "AUC of SVM with IncomeBracket dropped is:         0.81691\n",
      "AUC of SVM with Zodiac dropped is:                0.81754\n"
     ]
    }
   ],
   "source": [
    "train_data, val_data = model_selection.train_test_split(df, test_size = 0.3)\n",
    "X_train = train_data.drop('Diabetes', axis = 1)\n",
    "X_val  = val_data.drop('Diabetes', axis = 1)\n",
    "Y_train = train_data['Diabetes']\n",
    "Y_val  = val_data['Diabetes']\n",
    "\n",
    "sv = sklearn.svm.LinearSVC(C = 0.015625, dual = False)\n",
    "sv.fit(X_train, Y_train)\n",
    "Y_pred = sv.decision_function(X_val)\n",
    "fpr, tpr, threshold = metrics.roc_curve(Y_val, Y_pred)\n",
    "auc_svm = metrics.auc(fpr, tpr)\n",
    "print('{:50s}{:.5f}'.format('AUC of SVM with all predictors is: ', auc_svm))\n",
    "\n",
    "for i in range(len(X.columns)):\n",
    "    X_train_new = X_train.drop(X_train.columns[i], axis = 1)\n",
    "    X_val_new = X_val.drop(X_val.columns[i], axis = 1)   \n",
    "    sv = sklearn.svm.LinearSVC(C = 0.015625, dual = False)\n",
    "    sv.fit(X_train_new, Y_train)\n",
    "    Y_pred = sv.decision_function(X_val_new)\n",
    "    fpr, tpr, threshold = metrics.roc_curve(Y_val, Y_pred)\n",
    "    auc_svm = metrics.auc(fpr, tpr)\n",
    "    print('{:50s}{:.5f}'.format('AUC of SVM with {} dropped is: '.format(X_train.columns[i]), auc_svm))"
   ]
  },
  {
   "cell_type": "markdown",
   "id": "0639e96e",
   "metadata": {},
   "source": [
    "* In the first portion of the code, I choose ten different slack variables and use them to evaluate different model performance with different slack variables. In the second portion of the code, I first split data into train and test set and use train set to build a support vector machine model with all predictors included. Then I find the AUC of this model. Then I build models with each predictor dropped and find their AUC accordingly.\n",
    "* First, the dataset is not linearly separable, and we need a slack variable to have a soft margin for the support vector machine. Therefore, I test different models' performance with different slack variables, and choose to use the slack variable that has the best model performance. The question requires me to find the best predictor of diabetes and the AUC of this model. One way to find the best predictor is to drop each predictors and see which drop drops the model performance the most. As AUC is a factor evaluating the performance of a model, by comparing the change of AUC after each drops could tell me which predictor is the best and the AUC of this model. The more decrease in AUC, the more the model performance is dropped and the better the predictor is.\n",
    "* The AUC of support vector machine with all predictors is about 0.81757. Excluding predictor, GeneralHealth, makes the AUC decreases to 0.80321, which has the highest decrease.\n",
    "* We could say GeneralHealth is the best predictor in support vector machine, since excluding it will drop the model performance the most."
   ]
  },
  {
   "cell_type": "markdown",
   "id": "c873c5fb",
   "metadata": {},
   "source": [
    "## Question 3\n",
    "*Use a single, individual decision tree. Doing so: What is the best predictor of diabetes and what is the AUC of this model?*"
   ]
  },
  {
   "cell_type": "code",
   "execution_count": 43,
   "id": "abc8537b",
   "metadata": {},
   "outputs": [
    {
     "name": "stdout",
     "output_type": "stream",
     "text": [
      "AUC of single decision tree with all predictors (without limiting max_dept) is: 0.59845\n"
     ]
    }
   ],
   "source": [
    "train_data, val_data = model_selection.train_test_split(df, test_size = 0.3, random_state = 981)\n",
    "X_train = train_data.drop('Diabetes', axis = 1)\n",
    "X_val  = val_data.drop('Diabetes', axis = 1)\n",
    "Y_train = train_data['Diabetes']\n",
    "Y_val  = val_data['Diabetes']\n",
    "\n",
    "sdt = tree.DecisionTreeClassifier(criterion='gini')\n",
    "sdt.fit(X_train, Y_train)\n",
    "Y_pred_proba = sdt.predict_proba(X_val)[:,1]\n",
    "fpr, tpr, threshold = metrics.roc_curve(Y_val, Y_pred_proba)\n",
    "auc_decision_tree = metrics.auc(fpr, tpr)\n",
    "print('{:67s}{:.5f}'.format('AUC of single decision tree with all predictors (without limiting max_dept) is: '.format(X_train.columns[i]), auc_decision_tree))"
   ]
  },
  {
   "cell_type": "code",
   "execution_count": 49,
   "id": "f91bef26",
   "metadata": {},
   "outputs": [
    {
     "name": "stdout",
     "output_type": "stream",
     "text": [
      "AUC of single decision tree with all predictors is:                0.81039\n",
      "AUC of single decision tree with HighBP dropped is:                0.80320\n",
      "AUC of single decision tree with HighChol dropped is:              0.80462\n",
      "AUC of single decision tree with BMI dropped is:                   0.79906\n",
      "AUC of single decision tree with Smoker dropped is:                0.81149\n",
      "AUC of single decision tree with Stroke dropped is:                0.81181\n",
      "AUC of single decision tree with Myocardial dropped is:            0.81061\n",
      "AUC of single decision tree with PhysActivity dropped is:          0.81069\n",
      "AUC of single decision tree with Fruit dropped is:                 0.81080\n",
      "AUC of single decision tree with Vegetables dropped is:            0.81116\n",
      "AUC of single decision tree with HeavyDrinker dropped is:          0.81006\n",
      "AUC of single decision tree with HasHealthcare dropped is:         0.81072\n",
      "AUC of single decision tree with NotAbleToAffordDoctor dropped is: 0.81106\n",
      "AUC of single decision tree with GeneralHealth dropped is:         0.79193\n",
      "AUC of single decision tree with MentalHealth dropped is:          0.81144\n",
      "AUC of single decision tree with PhysicalHealth dropped is:        0.81102\n",
      "AUC of single decision tree with HardToClimbStairs dropped is:     0.80936\n",
      "AUC of single decision tree with BiologicalSex dropped is:         0.81018\n",
      "AUC of single decision tree with AgeBracket dropped is:            0.80273\n",
      "AUC of single decision tree with EducationBracket dropped is:      0.81043\n",
      "AUC of single decision tree with IncomeBracket dropped is:         0.81090\n",
      "AUC of single decision tree with Zodiac dropped is:                0.81194\n"
     ]
    }
   ],
   "source": [
    "train_data, val_data = model_selection.train_test_split(df, test_size = 0.3, random_state = 981)\n",
    "X_train = train_data.drop('Diabetes', axis = 1)\n",
    "X_val  = val_data.drop('Diabetes', axis = 1)\n",
    "Y_train = train_data['Diabetes']\n",
    "Y_val  = val_data['Diabetes']\n",
    "\n",
    "sdt = tree.DecisionTreeClassifier(max_depth = 10, criterion='gini')\n",
    "sdt.fit(X_train, Y_train)\n",
    "Y_pred_proba = sdt.predict_proba(X_val)[:,1]\n",
    "fpr, tpr, threshold = metrics.roc_curve(Y_val, Y_pred_proba)\n",
    "auc_decision_tree = metrics.auc(fpr, tpr)\n",
    "print('{:67s}{:.5f}'.format('AUC of single decision tree with all predictors is: '.format(X_train.columns[i]), auc_decision_tree))\n",
    "\n",
    "for i in range(len(X.columns)):\n",
    "    X_train_new = X_train.drop(X_train.columns[i], axis = 1)\n",
    "    X_val_new = X_val.drop(X_val.columns[i], axis = 1)   \n",
    "    sdt = tree.DecisionTreeClassifier(max_depth = 10, criterion='gini')\n",
    "    sdt.fit(X_train_new, Y_train)\n",
    "    Y_pred_proba = sdt.predict_proba(X_val_new)[:,1]   \n",
    "    fpr, tpr, threshold = metrics.roc_curve(Y_val, Y_pred_proba)\n",
    "    auc_decision_tree = metrics.auc(fpr, tpr)\n",
    "    print('{:67s}{:.5f}'.format('AUC of single decision tree with {} dropped is: '.format(X_train.columns[i]), auc_decision_tree))"
   ]
  },
  {
   "cell_type": "markdown",
   "id": "4bf32397",
   "metadata": {},
   "source": [
    "* In the first portion of the code, I build a single decision tree model without limiting the maximum depth. In the second portion of the code, I first split data into train and test set and use train set to build a single decision tree model with max_depth = 10 and all predictors included. Then I find the AUC of this model. Then I build models with each predictor dropped and find their AUC accordingly.\n",
    "* The question requires me to find the best predictor of diabetes and the AUC of this model. One way to find the best predictor is to drop each predictors and see which drop drops the model performance the most. As AUC is a factor evaluating the performance of a model, by comparing the change of AUC after each drops could tell me which predictor is the best and the AUC of this model. The more decrease in AUC, the more the model performance is dropped and the better the predictor is.\n",
    "* For the model without limiting the maximum depth, the AUC is round 0.59845. For the model with max_depth = 10, the AUC of single decision tree with all predictors is about 0.81035. Excluding predictor, GeneralHealth, makes the AUC decreases to 0.79193, which has the highest decrease.\n",
    "* By limited the max_depth, we make the model perform better. If we did not limit the max_depth, then nodes are expanded until all leaves are pure. This might cause overfitting: when a classification is applied in the model, the result will fall into a pure leaf and the result returned by predict_proba will be either 0 or 1; if the max_depth is limited, the result will fall into an impure leaf and the result returned by predict_proba will be either 0 or the probability. We could say GeneralHealth is the best predictor in single decision tree, since excluding it will drop the model performance the most."
   ]
  },
  {
   "cell_type": "markdown",
   "id": "dd953d7e",
   "metadata": {},
   "source": [
    "## Question 4\n",
    "*Build a random forest model. Doing so: What is the best predictor of diabetes and what is the AUC of this model?*"
   ]
  },
  {
   "cell_type": "code",
   "execution_count": 42,
   "id": "b3317cbb",
   "metadata": {},
   "outputs": [
    {
     "name": "stdout",
     "output_type": "stream",
     "text": [
      "AUC of random forest with all predictors is:                       0.81041\n",
      "AUC of random forest with HighBP dropped is:                       0.80087\n",
      "AUC of random forest with HighChol dropped is:                     0.80345\n",
      "AUC of random forest with BMI dropped is:                          0.78064\n",
      "AUC of random forest with Smoker dropped is:                       0.80826\n",
      "AUC of random forest with Stroke dropped is:                       0.80967\n",
      "AUC of random forest with Myocardial dropped is:                   0.80862\n",
      "AUC of random forest with PhysActivity dropped is:                 0.80873\n",
      "AUC of random forest with Fruit dropped is:                        0.80819\n",
      "AUC of random forest with Vegetables dropped is:                   0.80979\n",
      "AUC of random forest with HeavyDrinker dropped is:                 0.80839\n",
      "AUC of random forest with HasHealthcare dropped is:                0.80969\n",
      "AUC of random forest with NotAbleToAffordDoctor dropped is:        0.80943\n",
      "AUC of random forest with GeneralHealth dropped is:                0.79158\n",
      "AUC of random forest with MentalHealth dropped is:                 0.80923\n",
      "AUC of random forest with PhysicalHealth dropped is:               0.80725\n",
      "AUC of random forest with HardToClimbStairs dropped is:            0.81052\n",
      "AUC of random forest with BiologicalSex dropped is:                0.80670\n",
      "AUC of random forest with AgeBracket dropped is:                   0.79198\n",
      "AUC of random forest with EducationBracket dropped is:             0.80796\n",
      "AUC of random forest with IncomeBracket dropped is:                0.80433\n",
      "AUC of random forest with Zodiac dropped is:                       0.80133\n"
     ]
    }
   ],
   "source": [
    "train_data, val_data = model_selection.train_test_split(df, test_size = 0.3, random_state = 981)\n",
    "X_train = train_data.drop('Diabetes', axis = 1)\n",
    "X_val  = val_data.drop('Diabetes', axis = 1)\n",
    "Y_train = train_data['Diabetes']\n",
    "Y_val  = val_data['Diabetes']\n",
    "\n",
    "rf = ensemble.RandomForestClassifier(n_estimators = 200, max_samples = 1.0, max_features = 0.2, bootstrap = True, criterion='gini')\n",
    "rf.fit(X_train, Y_train)\n",
    "Y_pred_proba = rf.predict_proba(X_val)[:,1]\n",
    "auc_random_forest = metrics.roc_auc_score(Y_val, Y_pred_proba)\n",
    "print('{:67s}{:.5f}'.format('AUC of random forest with all predictors is: ', auc_random_forest))\n",
    "\n",
    "for i in range(len(X.columns)):\n",
    "    X_train_new = X_train.drop(X_train.columns[i], axis = 1)\n",
    "    X_val_new = X_val.drop(X_val.columns[i], axis = 1)   \n",
    "    rf = ensemble.RandomForestClassifier(n_estimators = 200, max_samples = 1.0, max_features = 0.2, bootstrap = True, criterion='gini')\n",
    "    rf.fit(X_train_new, Y_train)\n",
    "    Y_pred_proba = rf.predict_proba(X_val_new)[:,1]\n",
    "    auc_random_forest = metrics.roc_auc_score(Y_val, Y_pred_proba)\n",
    "    print('{:67s}{:.5f}'.format('AUC of random forest with {} dropped is: '.format(X_train.columns[i]), auc_random_forest))\n"
   ]
  },
  {
   "cell_type": "markdown",
   "id": "763b30a3",
   "metadata": {},
   "source": [
    "* In the code, I first split data into train and test set and use train set to build a random forest model with all predictors included. Then I find the AUC of this model. Then I build models with each predictor dropped and find their AUC accordingly.\n",
    "* The question requires me to find the best predictor of diabetes and the AUC of this model. One way to find the best predictor is to drop each predictors and see which drop drops the model performance the most. As AUC is a factor evaluating the performance of a model, by comparing the change of AUC after each drops could tell me which predictor is the best and the AUC of this model. The more decrease in AUC, the more the model performance is dropped and the better the predictor is.\n",
    "* The AUC of random forest with all predictors is about 0.81041. Excluding predictor, BMI, makes the AUC decreases to 0.78064, which has the highest decrease.\n",
    "* We could say BMI is the best predictor in random forest, since excluding it will drop the model performance the most."
   ]
  },
  {
   "cell_type": "markdown",
   "id": "b2f48c1e",
   "metadata": {},
   "source": [
    "## Question 5\n",
    "*Build a model using adaBoost. Doing so: What is the best predictor of diabetes and what is the AUC of this model?*"
   ]
  },
  {
   "cell_type": "code",
   "execution_count": 33,
   "id": "124a0f3d",
   "metadata": {},
   "outputs": [
    {
     "name": "stdout",
     "output_type": "stream",
     "text": [
      "AUC of adaboost with all predictor is:                             0.82767\n",
      "AUC of adaboost with HighBP dropped is:                            0.82077\n",
      "AUC of adaboost with HighChol dropped is:                          0.82328\n",
      "AUC of adaboost with BMI dropped is:                               0.81017\n",
      "AUC of adaboost with Smoker dropped is:                            0.82767\n",
      "AUC of adaboost with Stroke dropped is:                            0.82747\n",
      "AUC of adaboost with Myocardial dropped is:                        0.82684\n",
      "AUC of adaboost with PhysActivity dropped is:                      0.82762\n",
      "AUC of adaboost with Fruit dropped is:                             0.82774\n",
      "AUC of adaboost with Vegetables dropped is:                        0.82761\n",
      "AUC of adaboost with HeavyDrinker dropped is:                      0.82640\n",
      "AUC of adaboost with HasHealthcare dropped is:                     0.82760\n",
      "AUC of adaboost with NotAbleToAffordDoctor dropped is:             0.82767\n",
      "AUC of adaboost with GeneralHealth dropped is:                     0.81343\n",
      "AUC of adaboost with MentalHealth dropped is:                      0.82744\n",
      "AUC of adaboost with PhysicalHealth dropped is:                    0.82763\n",
      "AUC of adaboost with HardToClimbStairs dropped is:                 0.82750\n",
      "AUC of adaboost with BiologicalSex dropped is:                     0.82692\n",
      "AUC of adaboost with AgeBracket dropped is:                        0.81857\n",
      "AUC of adaboost with EducationBracket dropped is:                  0.82764\n",
      "AUC of adaboost with IncomeBracket dropped is:                     0.82661\n",
      "AUC of adaboost with Zodiac dropped is:                            0.82766\n"
     ]
    }
   ],
   "source": [
    "train_data, val_data = model_selection.train_test_split(df, test_size = 0.3, random_state = 981)\n",
    "X_train = train_data.drop('Diabetes', axis = 1)\n",
    "X_val  = val_data.drop('Diabetes', axis = 1)\n",
    "Y_train = train_data['Diabetes']\n",
    "Y_val  = val_data['Diabetes']\n",
    "\n",
    "ab = ensemble.AdaBoostClassifier(tree.DecisionTreeClassifier(max_depth=1), algorithm=\"SAMME\", n_estimators=2000, learning_rate=1)\n",
    "ab.fit(X_train, Y_train)\n",
    "Y_pred_proba = ab.predict_proba(X_val)[:,1]\n",
    "auc_adaBoost = metrics.roc_auc_score(Y_val, Y_pred_proba)\n",
    "print('{:67s}{:.5f}'.format('AUC of adaboost with all predictor is: ', auc_adaBoost))\n",
    "\n",
    "for i in range(len(X.columns)):\n",
    "    X_train_new = X_train.drop(X_train.columns[i], axis = 1)\n",
    "    X_val_new = X_val.drop(X_val.columns[i], axis = 1)   \n",
    "    ab = ensemble.AdaBoostClassifier(tree.DecisionTreeClassifier(max_depth=1), algorithm=\"SAMME\", n_estimators=2000, learning_rate=1)\n",
    "    ab.fit(X_train_new, Y_train)\n",
    "    Y_pred_proba = ab.predict_proba(X_val_new)[:,1]\n",
    "    auc_adaBoost = metrics.roc_auc_score(Y_val, Y_pred_proba)\n",
    "    print('{:67s}{:.5f}'.format('AUC of adaboost with {} dropped is: '.format(X_train.columns[i]), auc_adaBoost))\n",
    "    "
   ]
  },
  {
   "cell_type": "markdown",
   "id": "3ff30069",
   "metadata": {},
   "source": [
    "* In the code, I first split data into train and test set and use train set to build a adaBoost model with all predictors included. Then I find the AUC of this model. Then I build models with each predictor dropped and find their AUC accordingly.\n",
    "* The question requires me to find the best predictor of diabetes and the AUC of this model. One way to find the best predictor is to drop each predictors and see which drop drops the model performance the most. As AUC is a factor evaluating the performance of a model, by comparing the change of AUC after each drops could tell me which predictor is the best and the AUC of this model. The more decrease in AUC, the more the model performance is dropped and the better the predictor is.\n",
    "* The AUC of adaBoost with all predictors is about 0.82767. Excluding predictor, BMI, makes the AUC decreases to 0.81017, which has the highest decrease.\n",
    "* We could say BMI is the best predictor in adaBoost, since excluding it will drop the model performance the most."
   ]
  },
  {
   "cell_type": "markdown",
   "id": "be6a4053",
   "metadata": {},
   "source": [
    "## Extra 1\n",
    "*Which of these 5 models is the best to predict diabetes in this dataset?*"
   ]
  },
  {
   "cell_type": "code",
   "execution_count": 50,
   "id": "e4a9ef9b",
   "metadata": {},
   "outputs": [
    {
     "data": {
      "image/png": "[encoded data removed]",
      "text/plain": [
       "<Figure size 432x288 with 1 Axes>"
      ]
     },
     "metadata": {
      "needs_background": "light"
     },
     "output_type": "display_data"
    }
   ],
   "source": [
    "train_data, val_data = model_selection.train_test_split(df, test_size = 0.3, random_state = 981)\n",
    "X_train = train_data.drop('Diabetes', axis = 1)\n",
    "X_val  = val_data.drop('Diabetes', axis = 1)\n",
    "Y_train = train_data['Diabetes']\n",
    "Y_val  = val_data['Diabetes']\n",
    "\n",
    "log = sklearn.linear_model.LogisticRegression(solver = 'liblinear', class_weight = 'balanced')\n",
    "log.fit(X_train, Y_train)\n",
    "Y_pred_proba = log.predict_proba(X_val)[:,1]\n",
    "fpr_log, tpr_log, threshold = metrics.roc_curve(Y_val, Y_pred_proba)\n",
    "auc_log = metrics.auc(fpr_log, tpr_log)\n",
    "\n",
    "sv = sklearn.svm.LinearSVC(C = 0.1, dual = False)\n",
    "sv.fit(X_train, Y_train)\n",
    "Y_pred_proba = sv.decision_function(X_val)\n",
    "fpr_svm, tpr_svm, threshold = metrics.roc_curve(Y_val, Y_pred_proba)\n",
    "auc_svm = metrics.auc(fpr_svm, tpr_svm)\n",
    "\n",
    "sdt = tree.DecisionTreeClassifier(max_depth = 10, criterion='gini')\n",
    "sdt.fit(X_train, Y_train)\n",
    "Y_pred_proba = sdt.predict_proba(X_val)[:,1]\n",
    "fpr_tree, tpr_tree, threshold = metrics.roc_curve(Y_val, Y_pred_proba)\n",
    "auc_decision_tree = metrics.auc(fpr_tree, tpr_tree)\n",
    "\n",
    "rf = ensemble.RandomForestClassifier(n_estimators = 100, max_samples = 1.0, max_features = 0.2, bootstrap = True, criterion='gini')\n",
    "rf.fit(X_train, Y_train)\n",
    "Y_pred_proba = rf.predict_proba(X_val)[:,1]\n",
    "fpr_random, tpr_random, threshold = metrics.roc_curve(Y_val, Y_pred_proba)\n",
    "auc_random = metrics.auc(fpr_random, tpr_random)\n",
    "\n",
    "ab = ensemble.AdaBoostClassifier(tree.DecisionTreeClassifier(max_depth=1), algorithm=\"SAMME\", n_estimators=2000, learning_rate=1)\n",
    "ab.fit(X_train, Y_train)\n",
    "Y_pred_proba = ab.predict_proba(X_val)[:,1]\n",
    "fpr_adaBoost, tpr_adaBoost, threshold = metrics.roc_curve(Y_val, Y_pred_proba)\n",
    "auc_adaBoost = metrics.auc(fpr_adaBoost, tpr_adaBoost)\n",
    "\n",
    "plt.title('Receiver Operating Characteristic')\n",
    "plt.plot(fpr_log, tpr_log, 'b', label = 'AUC of Logistics Regression = %0.2f' % auc_log)\n",
    "plt.plot(fpr_svm, tpr_svm, 'g', label = 'AUC of Support Vector Machine = %0.2f' % auc_svm)\n",
    "plt.plot(fpr_tree, tpr_tree, 'm', label = 'AUC of Single Decision Tree = %0.2f' % auc_decision_tree)\n",
    "plt.plot(fpr_random, tpr_random, 'y', label = 'AUC of Random Forest = %0.2f' % auc_random)\n",
    "plt.plot(fpr_adaBoost, tpr_adaBoost, 'c', label = 'AUC of AdaBoost = %0.2f' % auc_adaBoost)\n",
    "plt.legend(loc = 'lower right')\n",
    "plt.plot([0, 1], [0, 1],'r--')\n",
    "plt.xlim([0, 1])\n",
    "plt.ylim([0, 1])\n",
    "plt.ylabel('True Positive Rate')\n",
    "plt.xlabel('False Positive Rate')\n",
    "plt.show()"
   ]
  },
  {
   "cell_type": "markdown",
   "id": "eacda299",
   "metadata": {},
   "source": [
    "* In the code, I first split data into train and test set and build five models with all predictors included. Then I plot the AUC curves of each model.\n",
    "* AUC could be used to evaluate model performance: higher the AUC, the better the model. Therefore, I calculate the AUC of each model and compare them.\n",
    "* The AUC of logistics regression is about 0.82. The AUC of support vector machine is about 0.82. The AUC of single decision tree is about 0.81. The AUC of random forest is about 0.81. The AUC of adaBoost is about 0.83.\n",
    "* The AUC of adaBoost is the highest among all models, even though there is no huge differences.\n"
   ]
  },
  {
   "cell_type": "markdown",
   "id": "b5d0c34d",
   "metadata": {},
   "source": [
    "## Extra 2\n",
    "*Tell us something interesting about this dataset that is not already covered by the\n",
    "questions above and that is not obvious.*"
   ]
  },
  {
   "cell_type": "code",
   "execution_count": 92,
   "id": "828462ca",
   "metadata": {},
   "outputs": [
    {
     "data": {
      "image/png": "[encoded data removed]",
      "text/plain": [
       "<Figure size 432x288 with 1 Axes>"
      ]
     },
     "metadata": {
      "needs_background": "light"
     },
     "output_type": "display_data"
    },
    {
     "data": {
      "image/png": "[encoded data removed]",
      "text/plain": [
       "<Figure size 432x288 with 1 Axes>"
      ]
     },
     "metadata": {
      "needs_background": "light"
     },
     "output_type": "display_data"
    },
    {
     "data": {
      "image/png": "[encoded data removed]",
      "text/plain": [
       "<Figure size 432x288 with 1 Axes>"
      ]
     },
     "metadata": {
      "needs_background": "light"
     },
     "output_type": "display_data"
    }
   ],
   "source": [
    "plt.title('BMI Distribution')\n",
    "X[\"BMI\"].hist(bins = 20)\n",
    "plt.ylabel('Number')\n",
    "plt.xlabel('BMI')\n",
    "plt.show()\n",
    "\n",
    "plt.title('AgeBracket Distribution')\n",
    "X[\"AgeBracket\"].value_counts().sort_index().plot.bar()\n",
    "plt.ylabel('Number')\n",
    "plt.xlabel('AgeBracket')\n",
    "plt.show()\n",
    "\n",
    "plt.title('EducationBracket Distribution')\n",
    "X[\"EducationBracket\"].value_counts().sort_index().plot.bar()\n",
    "plt.ylabel('Number')\n",
    "plt.xlabel('EducationBracket')\n",
    "plt.show()\n",
    "plt.show()"
   ]
  },
  {
   "cell_type": "markdown",
   "id": "f0db76b2",
   "metadata": {},
   "source": [
    "* In the code, I plot the distribution of values of three predictors: BMI, AgeBracket, EducationBracket.\n",
    "* By examining the plot of distribution, we can have some findings of the distribution of values and draw some conclusion toward the previous models.\n",
    "* For BMI in the dataset, the majority falls between 20-30. For AgeBracket, the distribution is left skewed. For EducationBracket, the distribution is left skewed.\n",
    "* We could say that the previous models will be more effective coping with data points with BMI value within 20-30, comparatively higher AgeBracket number, and education of GED, some college or college graduate."
   ]
  }
 ],
 "metadata": {
  "kernelspec": {
   "display_name": "Python 3 (ipykernel)",
   "language": "python",
   "name": "python3"
  },
  "language_info": {
   "codemirror_mode": {
    "name": "ipython",
    "version": 3
   },
   "file_extension": ".py",
   "mimetype": "text/x-python",
   "name": "python",
   "nbconvert_exporter": "python",
   "pygments_lexer": "ipython3",
   "version": "3.8.5"
  }
 },
 "nbformat": 4,
 "nbformat_minor": 5
}
