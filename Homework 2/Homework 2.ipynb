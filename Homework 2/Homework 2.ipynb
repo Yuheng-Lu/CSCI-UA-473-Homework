{
 "cells": [
  {
   "cell_type": "markdown",
   "id": "9c346c06",
   "metadata": {},
   "source": [
    "# Package Import and Data Cleaning"
   ]
  },
  {
   "cell_type": "code",
   "execution_count": 1,
   "id": "eb6aedde",
   "metadata": {},
   "outputs": [],
   "source": [
    "import numpy\n",
    "import pandas as pd\n",
    "import sklearn\n",
    "import autograd.numpy as np\n",
    "import matplotlib.pyplot as plt\n",
    "from sklearn.linear_model import LinearRegression\n",
    "from sklearn.linear_model import LogisticRegression\n",
    "from sklearn.linear_model import Ridge\n",
    "from sklearn.linear_model import Lasso\n",
    "from sklearn import model_selection\n",
    "from sklearn import metrics\n",
    "from sklearn.model_selection import train_test_split\n",
    "from sklearn.metrics import mean_squared_error"
   ]
  },
  {
   "cell_type": "code",
   "execution_count": 2,
   "id": "093d79e9",
   "metadata": {},
   "outputs": [],
   "source": [
    "df = pd.read_csv('techSalaries2017.csv')\n",
    "df.dropna(subset=['Race', 'Education'], inplace = True)\n",
    "X = df[['yearsofexperience', 'yearsatcompany',\n",
    "       'gender', 'Masters_Degree', 'Bachelors_Degree', 'Doctorate_Degree',\n",
    "       'Highschool', 'Some_College', 'Race_Asian', 'Race_White',\n",
    "       'Race_Two_Or_More', 'Race_Black', 'Race_Hispanic', \n",
    "       'Age', 'Height', 'Zodiac', 'SAT', 'GPA']]\n",
    "X = pd.get_dummies(X, columns = ['Zodiac', 'gender'])\n",
    "Y = df[['totalyearlycompensation']]\n",
    "\n",
    "X_num = X[['yearsofexperience', 'yearsatcompany','Age', 'Height', 'SAT', 'GPA']]\n",
    "X_norm = (X_num - X_num.mean())/X_num.std()\n",
    "X_dummy = X.drop(['yearsofexperience', 'yearsatcompany','Age', 'Height', 'SAT', 'GPA'], axis=1)\n",
    "X = pd.concat([X_norm, X_dummy], axis=1, join='inner')\n",
    "Y = (Y - Y.mean())/Y.std()"
   ]
  },
  {
   "cell_type": "code",
   "execution_count": 3,
   "id": "fb666533",
   "metadata": {},
   "outputs": [
    {
     "data": {
      "text/plain": [
       "Index(['Masters_Degree', 'Bachelors_Degree', 'Doctorate_Degree', 'Highschool',\n",
       "       'Some_College', 'Race_Asian', 'Race_White', 'Race_Two_Or_More',\n",
       "       'Race_Black', 'Race_Hispanic', 'Zodiac_1', 'Zodiac_2', 'Zodiac_3',\n",
       "       'Zodiac_4', 'Zodiac_5', 'Zodiac_6', 'Zodiac_7', 'Zodiac_8', 'Zodiac_9',\n",
       "       'Zodiac_10', 'Zodiac_11', 'Zodiac_12', 'gender_Female', 'gender_Male',\n",
       "       'gender_Other'],\n",
       "      dtype='object')"
      ]
     },
     "execution_count": 3,
     "metadata": {},
     "output_type": "execute_result"
    }
   ],
   "source": [
    "X_dummy.columns"
   ]
  },
  {
   "cell_type": "markdown",
   "id": "2d003d8a",
   "metadata": {},
   "source": [
    "# Question 1\n",
    "*Using multiple linear regression: What is the best predictor of total annual compensation, how much variance is explained by this predictor vs. the full multiple regression model?*"
   ]
  },
  {
   "cell_type": "code",
   "execution_count": 3,
   "id": "c393bbf5",
   "metadata": {},
   "outputs": [
    {
     "name": "stdout",
     "output_type": "stream",
     "text": [
      "r^2 bewteen yearsofexperience and total yearly compensation:   0.1622\n",
      "r^2 bewteen yearsatcompany and total yearly compensation:      0.0280\n",
      "r^2 bewteen Age and total yearly compensation:                 0.0650\n",
      "r^2 bewteen Height and total yearly compensation:              0.0001\n",
      "r^2 bewteen SAT and total yearly compensation:                 0.1109\n",
      "r^2 bewteen GPA and total yearly compensation:                 0.0933\n",
      "r^2 bewteen Masters_Degree and total yearly compensation:      0.0097\n",
      "r^2 bewteen Bachelors_Degree and total yearly compensation:    0.0239\n",
      "r^2 bewteen Doctorate_Degree and total yearly compensation:    0.0196\n",
      "r^2 bewteen Highschool and total yearly compensation:          0.0002\n",
      "r^2 bewteen Some_College and total yearly compensation:        0.0002\n",
      "r^2 bewteen Race_Asian and total yearly compensation:          0.0014\n",
      "r^2 bewteen Race_White and total yearly compensation:          0.0022\n",
      "r^2 bewteen Race_Two_Or_More and total yearly compensation:    0.0002\n",
      "r^2 bewteen Race_Black and total yearly compensation:          0.0005\n",
      "r^2 bewteen Race_Hispanic and total yearly compensation:       0.0001\n",
      "r^2 bewteen Zodiac_1 and total yearly compensation:            0.0000\n",
      "r^2 bewteen Zodiac_2 and total yearly compensation:            0.0000\n",
      "r^2 bewteen Zodiac_3 and total yearly compensation:            0.0000\n",
      "r^2 bewteen Zodiac_4 and total yearly compensation:            0.0000\n",
      "r^2 bewteen Zodiac_5 and total yearly compensation:            0.0000\n",
      "r^2 bewteen Zodiac_6 and total yearly compensation:            0.0000\n",
      "r^2 bewteen Zodiac_7 and total yearly compensation:            0.0000\n",
      "r^2 bewteen Zodiac_8 and total yearly compensation:            0.0001\n",
      "r^2 bewteen Zodiac_9 and total yearly compensation:            0.0000\n",
      "r^2 bewteen Zodiac_10 and total yearly compensation:           0.0002\n",
      "r^2 bewteen Zodiac_11 and total yearly compensation:           0.0001\n",
      "r^2 bewteen Zodiac_12 and total yearly compensation:           0.0003\n",
      "r^2 bewteen gender_Female and total yearly compensation:       0.0015\n",
      "r^2 bewteen gender_Male and total yearly compensation:         0.0013\n",
      "r^2 bewteen gender_Other and total yearly compensation:        0.0002\n",
      "r^2 of the multiple regression model is:                       0.2672\n"
     ]
    }
   ],
   "source": [
    "for (columnName, columnData) in X.iteritems():\n",
    "    model = LinearRegression().fit(columnData.to_numpy().reshape(-1,1),Y)\n",
    "    rSqr = model.score(columnData.to_numpy().reshape(-1,1), Y)\n",
    "    print('{:63s}{:.4f}'.format('r^2 bewteen {:} and total yearly compensation: '.format(columnName), rSqr))\n",
    "\n",
    "model = LinearRegression().fit(X,Y)\n",
    "rSqr_multi = model.score(X, Y)\n",
    "print('{:63s}{:.4f}'.format('r^2 of the multiple regression model is: ', rSqr_multi))"
   ]
  },
  {
   "cell_type": "markdown",
   "id": "96aa41b7",
   "metadata": {},
   "source": [
    "* In the code, I first use linear regression between each predictors and outcome and compute the correlation of determinations; then I use multiple regression model and compute the correlation of determination. Before implementing the model, there are several qualitative variables including Zodiac and gender, I turned them into dummy variables. Also, there are NaN value for race and education. I drop them before implementing the models. Moreover, I normalize the quantatitive variables in the dataset including predictor and outcome.\n",
    "* By comparing the correlation of determinations, we will be able to tell which predictor is the best. For qualitative variables, they cannot be used directed and need to be turned into dummy variables.\n",
    "* R square of multiple regression is the largest, 0.2672 among all. R square of the years of experience is the largest among model with single predictor.\n",
    "* R square can tell us how much variance is explained. For using predictor years of experience, 16.22% of the variance is explained. For using multiple regression, 26.72% of the variance is explained."
   ]
  },
  {
   "cell_type": "markdown",
   "id": "662b914c",
   "metadata": {},
   "source": [
    "# Question 2\n",
    "*Using ridge regression to do the same as in 1): How does the model change or improve compared to OLS? What is the optimal lambda?*"
   ]
  },
  {
   "cell_type": "code",
   "execution_count": 4,
   "id": "2dc79ae1",
   "metadata": {},
   "outputs": [
    {
     "data": {
      "image/png": "[encoded data removed]",
      "text/plain": [
       "<Figure size 432x288 with 1 Axes>"
      ]
     },
     "metadata": {
      "needs_background": "light"
     },
     "output_type": "display_data"
    },
    {
     "name": "stdout",
     "output_type": "stream",
     "text": [
      "Optimal lambda: 0.6706706706706707\n",
      "RMSE of linear regression model is:  0.8560397793602196\n",
      "RMSE of ridge regression model is:  0.8560403875573124\n",
      "Betas of linear regression model\n",
      "[[ 3.88940626e-01 -5.79390377e-02 -3.18235607e-03 -6.09592734e-03\n",
      "   2.58899458e-01  1.38859190e-02 -1.10323092e-01 -2.78374710e-01\n",
      "   4.23119078e-01 -3.77623362e-01 -3.22710664e-01  7.79406059e-02\n",
      "   1.06207345e-01  2.04779364e-01  6.55086638e-02  7.59515437e-02\n",
      "  -2.42161409e-02  5.87966469e-03 -8.75507128e-03 -6.17228534e-03\n",
      "  -1.30239846e-02  6.29163611e-05 -5.77951979e-03 -2.41393450e-02\n",
      "   2.04849901e-02 -3.14985498e-02  3.19062474e-02  5.52510781e-02\n",
      "   1.91672089e-02  5.60690031e-02  2.45058462e-01]]\n",
      "Betas of ridge regression model\n",
      "[[ 3.88900577e-01 -5.79223771e-02 -3.15837006e-03 -6.09454821e-03\n",
      "   2.58872481e-01  1.39164826e-02 -4.01181606e-02 -2.08134778e-01\n",
      "   4.92997826e-01 -3.06642933e-01 -2.51932072e-01 -3.77727670e-03\n",
      "   2.44303573e-02  1.22977863e-01 -1.62410480e-02 -5.71777677e-03\n",
      "  -2.42421928e-02  5.88045674e-03 -8.74524374e-03 -6.16596244e-03\n",
      "  -1.30151833e-02  7.21533285e-05 -5.77107016e-03 -2.41582844e-02\n",
      "   2.04829671e-02 -3.14780072e-02  3.19033939e-02  5.52369730e-02\n",
      "   1.68362267e-02  5.37244483e-02  2.41179060e-01]]\n"
     ]
    }
   ],
   "source": [
    "xTrain, xTest, yTrain, yTest = train_test_split(X, Y, test_size=0.5, random_state=0)\n",
    "lambdas = np.linspace(0,10,1000)\n",
    "cont = np.empty([len(lambdas),2])*np.NaN\n",
    "for ii in range(len(lambdas)):\n",
    "    ridgeModel = Ridge(alpha=lambdas[ii]).fit(xTrain, yTrain)\n",
    "    cont[ii,0] = lambdas[ii]\n",
    "    error = mean_squared_error(yTest,ridgeModel.predict(xTest),squared=False)\n",
    "    cont[ii,1] = error\n",
    "\n",
    "plt.plot(cont[:,0],cont[:,1])\n",
    "plt.xlabel('Lambda')\n",
    "plt.ylabel('RMSE')\n",
    "plt.title('Ridge regression')\n",
    "plt.show()\n",
    "print('Optimal lambda:',lambdas[np.argmax(cont[:,1]==np.min(cont[:,1]))])\n",
    "\n",
    "linearModel = LinearRegression().fit(X, Y)\n",
    "error_linear = mean_squared_error(Y,linearModel.predict(X),squared=False)\n",
    "\n",
    "ridgeModel = Ridge(alpha=0.6706706706706707).fit(X, Y)\n",
    "error_ridge = mean_squared_error(Y,ridgeModel.predict(X),squared=False)\n",
    "\n",
    "\n",
    "print(\"RMSE of linear regression model is: \", error_linear)\n",
    "print(\"RMSE of ridge regression model is: \", error_ridge)\n",
    "print(\"Betas of linear regression model\")\n",
    "print(linearModel.coef_)\n",
    "print(\"Betas of ridge regression model\")\n",
    "print(ridgeModel.coef_)"
   ]
  },
  {
   "cell_type": "markdown",
   "id": "d62e0d94",
   "metadata": {},
   "source": [
    "* In the code, I first split the data into training set and testing set. Then, I make an array of 1000 different lambdas with the interval 0-10. Then, I calculate each RMSE for different lambda values. Then, I compare the RMSE of linear regression model with RMSE of ridge regression model. Finally, I compare the betas of linear regression model with ridge regression model.\n",
    "* The optimal lambda should be the one with the least RMSE, thus I find RMSE for different lambdas within 0-10. And use the optimal lambda to build ridge regression model. The betas of implementing ridge regression should have some difference comparing to those of linear regression.\n",
    "* I found that the RMSE of ridge regression model is slightly larger than that of linear regression model, with optimal lambda: 0.6706706706706707. The absolute values of betas are getting smallers.\n",
    "* Larger RMSE means more errorous, but since ridge regression alleviates the problem of overfitting, which might give up on minimizing RSS, which might lead to a larger RMSE. Since RMSE only very slightly increases, it will not cause a problem. For some betas, there is a trend of shrinkage, and the others remain unchanged. This means that ridge regression model tends to more centralized than linear regression model, since it alleviates overfitting."
   ]
  },
  {
   "cell_type": "markdown",
   "id": "bcb02347",
   "metadata": {},
   "source": [
    "# Question 3\n",
    "*Using Lasso regression to do the same as in 1): How does the model change now? How many of the predictor betas are shrunk to exactly 0? What is the optimal lambda now?*"
   ]
  },
  {
   "cell_type": "code",
   "execution_count": 5,
   "id": "552cb317",
   "metadata": {},
   "outputs": [
    {
     "name": "stderr",
     "output_type": "stream",
     "text": [
      "<ipython-input-5-a167bb5eb228>:7: UserWarning: With alpha=0, this algorithm does not converge well. You are advised to use the LinearRegression estimator\n",
      "  LassoModel = Lasso(alpha=lambdas[ii]).fit(xTrain, yTrain)\n",
      "/Library/Frameworks/Python.framework/Versions/3.8/lib/python3.8/site-packages/sklearn/linear_model/_coordinate_descent.py:647: UserWarning: Coordinate descent with no regularization may lead to unexpected results and is discouraged.\n",
      "  model = cd_fast.enet_coordinate_descent(\n",
      "/Library/Frameworks/Python.framework/Versions/3.8/lib/python3.8/site-packages/sklearn/linear_model/_coordinate_descent.py:647: ConvergenceWarning: Objective did not converge. You might want to increase the number of iterations, check the scale of the features or consider increasing regularisation. Duality gap: 3.895e+03, tolerance: 1.076e+00 Linear regression models with null weight for the l1 regularization term are more efficiently fitted using one of the solvers implemented in sklearn.linear_model.Ridge/RidgeCV instead.\n",
      "  model = cd_fast.enet_coordinate_descent(\n"
     ]
    },
    {
     "data": {
      "image/png": "[encoded data removed]",
      "text/plain": [
       "<Figure size 432x288 with 1 Axes>"
      ]
     },
     "metadata": {
      "needs_background": "light"
     },
     "output_type": "display_data"
    },
    {
     "name": "stdout",
     "output_type": "stream",
     "text": [
      "Optimal lambda: 0.001001001001001001\n",
      "RMSE of linear regression model is:  0.8560397793602196\n",
      "RMSE of lasso regression model is:  0.856325399222508\n",
      "Betas of linear regression model\n",
      "[[ 3.88940626e-01 -5.79390377e-02 -3.18235607e-03 -6.09592734e-03\n",
      "   2.58899458e-01  1.38859190e-02 -1.10323092e-01 -2.78374710e-01\n",
      "   4.23119078e-01 -3.77623362e-01 -3.22710664e-01  7.79406059e-02\n",
      "   1.06207345e-01  2.04779364e-01  6.55086638e-02  7.59515437e-02\n",
      "  -2.42161409e-02  5.87966469e-03 -8.75507128e-03 -6.17228534e-03\n",
      "  -1.30239846e-02  6.29163611e-05 -5.77951979e-03 -2.41393450e-02\n",
      "   2.04849901e-02 -3.14985498e-02  3.19062474e-02  5.52510781e-02\n",
      "   1.91672089e-02  5.60690031e-02  2.45058462e-01]]\n",
      "Betas of Lasso regression model\n",
      "[ 3.84876883e-01 -5.52544140e-02 -2.50108777e-04 -5.24992117e-03\n",
      "  2.59049447e-01  1.33376540e-02  1.63207262e-01 -0.00000000e+00\n",
      "  6.77947861e-01 -1.95017236e-02 -0.00000000e+00 -9.46462257e-04\n",
      "  1.92813572e-02  1.00247372e-01 -0.00000000e+00 -0.00000000e+00\n",
      " -8.28036214e-03  0.00000000e+00 -0.00000000e+00 -0.00000000e+00\n",
      " -0.00000000e+00  0.00000000e+00 -0.00000000e+00 -6.71375225e-03\n",
      "  1.31758318e-02 -1.43611742e-02  2.33745183e-02  4.81993839e-02\n",
      " -3.01151062e-02  0.00000000e+00  0.00000000e+00]\n"
     ]
    }
   ],
   "source": [
    "xTrain, xTest, yTrain, yTest = train_test_split(X, Y, test_size=0.5, random_state=0)\n",
    "\n",
    "lambdas = np.linspace(0,1,1000)\n",
    "cont = np.empty([len(lambdas),2])*np.NaN\n",
    "\n",
    "for ii in range(len(lambdas)):\n",
    "    LassoModel = Lasso(alpha=lambdas[ii]).fit(xTrain, yTrain)\n",
    "    cont[ii,0] = lambdas[ii]\n",
    "    error = mean_squared_error(yTest, LassoModel.predict(xTest),squared=False)\n",
    "    cont[ii,1] = error\n",
    "\n",
    "plt.plot(cont[:,0],cont[:,1])\n",
    "plt.xlabel('Lambda')\n",
    "plt.ylabel('RMSE')\n",
    "plt.title('Lasso regression')\n",
    "plt.show()\n",
    "print('Optimal lambda:',lambdas[np.argmax(cont[:,1]==np.min(cont[:,1]))])\n",
    "\n",
    "LassoModel = Lasso(alpha=0.001001001001001001).fit(X, Y)\n",
    "error_lasso = mean_squared_error(Y,LassoModel.predict(X),squared=False)\n",
    "\n",
    "linearModel = LinearRegression().fit(X,Y)\n",
    "error_linear = mean_squared_error(Y,linearModel.predict(X),squared=False)\n",
    "\n",
    "print(\"RMSE of linear regression model is: \", error_linear)\n",
    "print(\"RMSE of lasso regression model is: \", error_lasso)\n",
    "\n",
    "print(\"Betas of linear regression model\")\n",
    "print(linearModel.coef_)\n",
    "print(\"Betas of Lasso regression model\")\n",
    "print(LassoModel.coef_)"
   ]
  },
  {
   "cell_type": "markdown",
   "id": "40ad6574",
   "metadata": {},
   "source": [
    "* In the code, I first split the data into training set and testing set. Then, I make an array of 1000 different lambdas with the interval 0-10. Then, I calculate each RMSE for different lambda values. Then, I compare the RMSE of linear regression model with RMSE of Lasso regression model. Finally, I compare the betas of linear regression model with Lasso regression model.\n",
    "* The optimal lambda should be the one with the least RMSE, thus I find RMSE for different lambdas within 0-1 (I tried 0-10, but it turns out lambda is too small to be observed on the graph). And use the optimal lambda to build ridge regression model. The betas of implementing Lasso regression should have some difference comparing to those of linear regression.\n",
    "* I found that the RMSE of Lasso regression model is slightly larger than that of linear regression model, with optimal lambda 0.001001001001001001. The absolute values of betas are getting smallers, and 11 out of 31 betas shrink to zero\n",
    "* Larger RMSE means more errorous, but since lasso regression alleviates the problem of overfitting, which might give up on minimizing RSS, which might lead to a larger RMSE. Since RMSE only very slightly increases, it will not cause a problem. For some betas, there is a trend of shrinkage, 11 of all betas shrink to zero, and the others remain unchanged. This means that Lasso regression model tends to more centralized than linear regression model, since it alleviates overfitting."
   ]
  },
  {
   "cell_type": "markdown",
   "id": "a4653476",
   "metadata": {},
   "source": [
    "# Question 4\n",
    "*There is controversy as to the existence of a male/female gender pay gap in tech job compensation. Build a logistic regression model (with gender as the outcome variable) to see if there is an appreciable beta associated with total annual compensation with and without controlling for other factors.*"
   ]
  },
  {
   "cell_type": "code",
   "execution_count": 51,
   "id": "e0d1dce6",
   "metadata": {},
   "outputs": [
    {
     "name": "stdout",
     "output_type": "stream",
     "text": [
      "Accuracy = 46.7%\n",
      "Confusion matrix = \n",
      "[[1506 2005]\n",
      " [ 293  511]]\n",
      "Precision = 20.3%\n",
      "Recall    = 63.6%\n",
      "Beta: [[-0.11902283]]\n"
     ]
    }
   ],
   "source": [
    "df_q4 = X[X['gender_Other'] != 1]['gender_Female']\n",
    "df_q4  = pd.concat([df_q4 , Y], axis=1, join='inner')\n",
    "train_data, val_data = model_selection.train_test_split(df_q4 , test_size = 0.2)\n",
    "\n",
    "X_train = train_data.drop('gender_Female', axis = 1)\n",
    "X_val  = val_data.drop('gender_Female', axis = 1)\n",
    "y_train = train_data['gender_Female']\n",
    "y_val  = val_data['gender_Female']\n",
    "\n",
    "model = LogisticRegression(solver = 'liblinear', class_weight = 'balanced')\n",
    "model.fit(X_train, y_train)\n",
    "pred = model.predict(X_val)\n",
    "accuracy = metrics.accuracy_score(y_val, pred) \n",
    "print(\"Accuracy = {:0.1f}%\".format(accuracy * 100))\n",
    "conf_matrix = metrics.confusion_matrix(y_val, pred)\n",
    "print(\"Confusion matrix = \")\n",
    "print(conf_matrix)\n",
    "precision = metrics.precision_score(y_val, pred)\n",
    "print(\"Precision = {:0.1f}%\".format(100 * precision))\n",
    "recall = metrics.recall_score(y_val, pred)\n",
    "print(\"Recall    = {:0.1f}%\".format(100 * recall))\n",
    "print(\"Beta:\", model.coef_)"
   ]
  },
  {
   "cell_type": "code",
   "execution_count": 52,
   "id": "71ac234f",
   "metadata": {},
   "outputs": [
    {
     "name": "stdout",
     "output_type": "stream",
     "text": [
      "Accuracy = 47.8%\n",
      "Confusion matrix = \n",
      "[[1584 1980]\n",
      " [ 284  489]]\n",
      "Precision = 19.8%\n",
      "Recall    = 63.3%\n",
      "Beta: [[-0.14801122  0.00655451  0.00728959 -0.00783476  0.00933741 -0.06334451]]\n"
     ]
    }
   ],
   "source": [
    "df_q4 = X[['gender_Female', 'yearsofexperience', 'Age', 'Height', 'SAT', 'GPA']]\n",
    "df_q4  = pd.concat([df_q4 , Y], axis=1, join='inner')\n",
    "train_data, val_data = model_selection.train_test_split(df_q4 , test_size = 0.2)\n",
    "X_train = train_data.drop('gender_Female', axis = 1)\n",
    "X_val  = val_data.drop('gender_Female', axis = 1)\n",
    "y_train = train_data['gender_Female']\n",
    "y_val  = val_data['gender_Female']\n",
    "model = LogisticRegression(solver = 'liblinear', class_weight = 'balanced')\n",
    "model.fit(X_train, y_train)\n",
    "pred = model.predict(X_val)\n",
    "accuracy = metrics.accuracy_score(y_val, pred) \n",
    "print(\"Accuracy = {:0.1f}%\".format(accuracy * 100))\n",
    "conf_matrix = metrics.confusion_matrix(y_val, pred)\n",
    "print(\"Confusion matrix = \")\n",
    "print(conf_matrix)\n",
    "precision = metrics.precision_score(y_val, pred)\n",
    "print(\"Precision = {:0.1f}%\".format(100 * precision))\n",
    "recall = metrics.recall_score(y_val, pred)\n",
    "print(\"Recall    = {:0.1f}%\".format(100 * recall))\n",
    "print(\"Beta:\", model.coef_)\n"
   ]
  },
  {
   "cell_type": "markdown",
   "id": "5a87b735",
   "metadata": {},
   "source": [
    "* In the first section, I create a new dataframe with gender female and compensation only. In gender female column, 1 means female, and 0 means male. Then I build a logistic regression model with gender only. In the second section, I I create a new dataframe with gender female, years of experience, age, height, SAT, GPA and compensation only. In gender female column, 1 means female, and 0 means male. Then I build a logistic regression model with these factor.\n",
    "* Using the code above, we can tell the beta with and without controlling other factors and examine the accuracy of the models.\n",
    "* The beta of gender only is -0.11902283, the beta of gender with other factors is -0.14801122. The accuracy of model with gender only is 46.7% and the accuracy of model with all these factors is 47.8%.\n",
    "* We could intepret first beta as controlling gender only an increase of 1 unit in yearly compensation multiplies the odds of being gender female by e^-0.1190 = 0.8878. We could intepret second beta as with all other factors together, an increase of 1 unit in yearly compensation multiplies the odds of being gender female by e^-0.1480 = 0.8624. With or without controlling other factors, it appears that an individual with higher yearly compensation will have more chance to be male. But there are something else we need to notice. First, the accuracies of both model are not very accurate, we cannot make any conclusion. Second, if there is an conclusion with similer beta, 1 unit increase of yearly compensation is not a small number since data had been normalized."
   ]
  },
  {
   "cell_type": "markdown",
   "id": "98175b28",
   "metadata": {},
   "source": [
    "# Question 5\n",
    "*Build a logistic regression model to see if you can predict high and low pay from years of relevant experience, age, height, SAT score and GPA, respectively.*"
   ]
  },
  {
   "cell_type": "code",
   "execution_count": 61,
   "id": "63491199",
   "metadata": {},
   "outputs": [
    {
     "name": "stdout",
     "output_type": "stream",
     "text": [
      "Years of experience\n",
      "Accuracy = 66.3%\n",
      "Confusion matrix = \n",
      "[[1911  660]\n",
      " [ 801  965]]\n",
      "Precision = 59.4%\n",
      "Recall    = 54.6%\n",
      "Beta: [[0.86655938]]\n",
      "\n",
      "Age\n",
      "Accuracy = 56.4%\n",
      "Confusion matrix = \n",
      "[[1486 1147]\n",
      " [ 742  962]]\n",
      "Precision = 45.6%\n",
      "Recall    = 56.5%\n",
      "Beta: [[0.49145841]]\n",
      "\n",
      "Height\n",
      "Accuracy = 50.9%\n",
      "Confusion matrix = \n",
      "[[1334 1271]\n",
      " [ 860  872]]\n",
      "Precision = 40.7%\n",
      "Recall    = 50.3%\n",
      "Beta: [[-0.01996725]]\n",
      "\n",
      "SAT\n",
      "Accuracy = 60.0%\n",
      "Confusion matrix = \n",
      "[[1506 1103]\n",
      " [ 630 1098]]\n",
      "Precision = 49.9%\n",
      "Recall    = 63.5%\n",
      "Beta: [[0.53049022]]\n",
      "\n",
      "GPA\n",
      "Accuracy = 57.9%\n",
      "Confusion matrix = \n",
      "[[1433 1190]\n",
      " [ 637 1077]]\n",
      "Precision = 47.5%\n",
      "Recall    = 62.8%\n",
      "Beta: [[0.47362034]]\n"
     ]
    }
   ],
   "source": [
    "df_q5 = X[['yearsofexperience']]\n",
    "df_q5 = pd.concat([df_q5, Y], axis=1, join='inner')\n",
    "threshold = int(Y.median())\n",
    "df_q5['highorlow'] = np.where(df_q5['totalyearlycompensation'] >= threshold, 1, 0)\n",
    "df_q5.drop('totalyearlycompensation',axis=1, inplace = True)\n",
    "\n",
    "train_data, val_data = model_selection.train_test_split(df_q5, test_size = 0.2) \n",
    "train_data\n",
    "X_train = train_data.drop('highorlow', axis = 1)\n",
    "X_val  = val_data.drop('highorlow', axis = 1)\n",
    "y_train = train_data['highorlow']\n",
    "y_val  = val_data['highorlow']\n",
    "\n",
    "model = LogisticRegression(solver = 'liblinear', class_weight = 'balanced')\n",
    "model.fit(X_train, y_train)\n",
    "\n",
    "print(\"Years of experience\")\n",
    "pred = model.predict(X_val)\n",
    "accuracy = metrics.accuracy_score(y_val, pred) \n",
    "print(\"Accuracy = {:0.1f}%\".format(accuracy * 100))\n",
    "conf_matrix = metrics.confusion_matrix(y_val, pred)\n",
    "print(\"Confusion matrix = \")\n",
    "print(conf_matrix)\n",
    "precision = metrics.precision_score(y_val, pred)\n",
    "print(\"Precision = {:0.1f}%\".format(100 * precision))\n",
    "recall = metrics.recall_score(y_val, pred)\n",
    "print(\"Recall    = {:0.1f}%\".format(100 * recall))\n",
    "print(\"Beta:\", model.coef_)\n",
    "print()\n",
    "##\n",
    "df_q5 = X[['Age']]\n",
    "df_q5 = pd.concat([df_q5, Y], axis=1, join='inner')\n",
    "threshold = int(Y.median())\n",
    "df_q5['highorlow'] = np.where(df_q5['totalyearlycompensation'] >= threshold, 1, 0)\n",
    "df_q5.drop('totalyearlycompensation',axis=1, inplace = True)\n",
    "\n",
    "train_data, val_data = model_selection.train_test_split(df_q5, test_size = 0.2) \n",
    "train_data\n",
    "X_train = train_data.drop('highorlow', axis = 1)\n",
    "X_val  = val_data.drop('highorlow', axis = 1)\n",
    "y_train = train_data['highorlow']\n",
    "y_val  = val_data['highorlow']\n",
    "\n",
    "model = LogisticRegression(solver = 'liblinear', class_weight = 'balanced')\n",
    "model.fit(X_train, y_train)\n",
    "\n",
    "print(\"Age\")\n",
    "pred = model.predict(X_val)\n",
    "accuracy = metrics.accuracy_score(y_val, pred) \n",
    "print(\"Accuracy = {:0.1f}%\".format(accuracy * 100))\n",
    "conf_matrix = metrics.confusion_matrix(y_val, pred)\n",
    "print(\"Confusion matrix = \")\n",
    "print(conf_matrix)\n",
    "precision = metrics.precision_score(y_val, pred)\n",
    "print(\"Precision = {:0.1f}%\".format(100 * precision))\n",
    "recall = metrics.recall_score(y_val, pred)\n",
    "print(\"Recall    = {:0.1f}%\".format(100 * recall))\n",
    "print(\"Beta:\", model.coef_)\n",
    "print()\n",
    "##\n",
    "df_q5 = X[['Height']]\n",
    "df_q5 = pd.concat([df_q5, Y], axis=1, join='inner')\n",
    "threshold = int(Y.median())\n",
    "df_q5['highorlow'] = np.where(df_q5['totalyearlycompensation'] >= threshold, 1, 0)\n",
    "df_q5.drop('totalyearlycompensation',axis=1, inplace = True)\n",
    "\n",
    "train_data, val_data = model_selection.train_test_split(df_q5, test_size = 0.2) \n",
    "train_data\n",
    "X_train = train_data.drop('highorlow', axis = 1)\n",
    "X_val  = val_data.drop('highorlow', axis = 1)\n",
    "y_train = train_data['highorlow']\n",
    "y_val  = val_data['highorlow']\n",
    "\n",
    "model = LogisticRegression(solver = 'liblinear', class_weight = 'balanced')\n",
    "model.fit(X_train, y_train)\n",
    "\n",
    "print(\"Height\")\n",
    "pred = model.predict(X_val)\n",
    "accuracy = metrics.accuracy_score(y_val, pred) \n",
    "print(\"Accuracy = {:0.1f}%\".format(accuracy * 100))\n",
    "conf_matrix = metrics.confusion_matrix(y_val, pred)\n",
    "print(\"Confusion matrix = \")\n",
    "print(conf_matrix)\n",
    "precision = metrics.precision_score(y_val, pred)\n",
    "print(\"Precision = {:0.1f}%\".format(100 * precision))\n",
    "recall = metrics.recall_score(y_val, pred)\n",
    "print(\"Recall    = {:0.1f}%\".format(100 * recall))\n",
    "print(\"Beta:\", model.coef_)\n",
    "print()\n",
    "##\n",
    "df_q5 = X[['SAT']]\n",
    "df_q5 = pd.concat([df_q5, Y], axis=1, join='inner')\n",
    "threshold = int(Y.median())\n",
    "df_q5['highorlow'] = np.where(df_q5['totalyearlycompensation'] >= threshold, 1, 0)\n",
    "df_q5.drop('totalyearlycompensation',axis=1, inplace = True)\n",
    "\n",
    "train_data, val_data = model_selection.train_test_split(df_q5, test_size = 0.2) \n",
    "train_data\n",
    "X_train = train_data.drop('highorlow', axis = 1)\n",
    "X_val  = val_data.drop('highorlow', axis = 1)\n",
    "y_train = train_data['highorlow']\n",
    "y_val  = val_data['highorlow']\n",
    "\n",
    "model = LogisticRegression(solver = 'liblinear', class_weight = 'balanced')\n",
    "model.fit(X_train, y_train)\n",
    "\n",
    "print(\"SAT\")\n",
    "pred = model.predict(X_val)\n",
    "accuracy = metrics.accuracy_score(y_val, pred) \n",
    "print(\"Accuracy = {:0.1f}%\".format(accuracy * 100))\n",
    "conf_matrix = metrics.confusion_matrix(y_val, pred)\n",
    "print(\"Confusion matrix = \")\n",
    "print(conf_matrix)\n",
    "precision = metrics.precision_score(y_val, pred)\n",
    "print(\"Precision = {:0.1f}%\".format(100 * precision))\n",
    "recall = metrics.recall_score(y_val, pred)\n",
    "print(\"Recall    = {:0.1f}%\".format(100 * recall))\n",
    "print(\"Beta:\", model.coef_)\n",
    "print()\n",
    "##\n",
    "df_q5 = X[['GPA']]\n",
    "df_q5 = pd.concat([df_q5, Y], axis=1, join='inner')\n",
    "threshold = int(Y.median())\n",
    "df_q5['highorlow'] = np.where(df_q5['totalyearlycompensation'] >= threshold, 1, 0)\n",
    "df_q5.drop('totalyearlycompensation',axis=1, inplace = True)\n",
    "\n",
    "train_data, val_data = model_selection.train_test_split(df_q5, test_size = 0.2) \n",
    "train_data\n",
    "X_train = train_data.drop('highorlow', axis = 1)\n",
    "X_val  = val_data.drop('highorlow', axis = 1)\n",
    "y_train = train_data['highorlow']\n",
    "y_val  = val_data['highorlow']\n",
    "\n",
    "model = LogisticRegression(solver = 'liblinear', class_weight = 'balanced')\n",
    "model.fit(X_train, y_train)\n",
    "\n",
    "print(\"GPA\")\n",
    "pred = model.predict(X_val)\n",
    "accuracy = metrics.accuracy_score(y_val, pred) \n",
    "print(\"Accuracy = {:0.1f}%\".format(accuracy * 100))\n",
    "conf_matrix = metrics.confusion_matrix(y_val, pred)\n",
    "print(\"Confusion matrix = \")\n",
    "print(conf_matrix)\n",
    "precision = metrics.precision_score(y_val, pred)\n",
    "print(\"Precision = {:0.1f}%\".format(100 * precision))\n",
    "recall = metrics.recall_score(y_val, pred)\n",
    "print(\"Recall    = {:0.1f}%\".format(100 * recall))\n",
    "print(\"Beta:\", model.coef_)\n"
   ]
  },
  {
   "cell_type": "markdown",
   "id": "d875833e",
   "metadata": {},
   "source": [
    "* In the code, I first create several new dataframes containing years of experience, age, height, SAT, GPA, and total yearly compensation. The I turn total yearly compensation into dummy variables based on median and drop the numerical total yearly compensation column. For the dummy column, 1 means above or equal to the median which is high, and 0 means lower than the median which is low. Then I build a logistic regression model use data upon.\n",
    "* Median is a good thresold to determine high and low compensation and make the numerical compensation into dummy variables since we cannot directly use the numbers.\n",
    "* The logistic regression models with predictors have the following accuracy and precision:\n",
    "    * Years of experience:\n",
    "        * Accuracy: 66.3%\n",
    "        * Precision: 59.4%\n",
    "    * Age:\n",
    "        * Accuracy: 56.4%\n",
    "        * Precision: 45.6%\n",
    "    * Height:\n",
    "        * Accuracy: 50.9%\n",
    "        * Precision: 40.7%\n",
    "    * SAT:\n",
    "        * Accuracy: 60.0%\n",
    "        * Precision: 49.9%\n",
    "    * GPA:\n",
    "        * Accuracy: 57.9%\n",
    "        * Precision: 47.5%\n",
    "* We can tell years of experience can most accurately indicate whether yearly compensation is high or low, and height can least accurately indicate whether yearly compensation is high or low."
   ]
  },
  {
   "cell_type": "markdown",
   "id": "415f3c77",
   "metadata": {},
   "source": [
    "# Extra A\n",
    "*Is salary, height or age normally distributed? Does this surprise you? Why or why not?*"
   ]
  },
  {
   "cell_type": "code",
   "execution_count": 69,
   "id": "6a53fcd0",
   "metadata": {},
   "outputs": [
    {
     "data": {
      "image/png": "[encoded data removed]",
      "text/plain": [
       "<Figure size 432x288 with 1 Axes>"
      ]
     },
     "metadata": {
      "needs_background": "light"
     },
     "output_type": "display_data"
    }
   ],
   "source": [
    "df[\"Height\"].hist()\n",
    "plt.xlabel('Height')\n",
    "plt.show()"
   ]
  },
  {
   "cell_type": "code",
   "execution_count": 70,
   "id": "898e9ecf",
   "metadata": {},
   "outputs": [
    {
     "data": {
      "image/png": "[encoded data removed]",
      "text/plain": [
       "<Figure size 432x288 with 1 Axes>"
      ]
     },
     "metadata": {
      "needs_background": "light"
     },
     "output_type": "display_data"
    }
   ],
   "source": [
    "df[\"Age\"].hist()\n",
    "plt.xlabel('Age')\n",
    "plt.show()"
   ]
  },
  {
   "cell_type": "code",
   "execution_count": 71,
   "id": "d50a5c75",
   "metadata": {},
   "outputs": [
    {
     "data": {
      "image/png": "[encoded data removed]",
      "text/plain": [
       "<Figure size 432x288 with 1 Axes>"
      ]
     },
     "metadata": {
      "needs_background": "light"
     },
     "output_type": "display_data"
    }
   ],
   "source": [
    "df[\"totalyearlycompensation\"].hist(bins = 100)\n",
    "plt.xlabel('Total Yearly Compensation')\n",
    "plt.show()"
   ]
  },
  {
   "cell_type": "markdown",
   "id": "314c0ae7",
   "metadata": {},
   "source": [
    "* In the code, I make three histograms of height, age, and total yearly compensation.\n",
    "* We can tell if the distribution is normal by observing the histograms.\n",
    "* Height is normally distributed. Age and total yearly compensation are not. More people are with in 25-45; the distribution is right skewed. More people are paid less; only a few people have super high compensation; the graph is right skewed as well.\n",
    "* I was not suprised, since compare to traditional industries, more technology industries are just emerging, it makes sense that there are more young people. And for the salary, it also makes that the majority of the people are on a mediocre level, and few have super high salary."
   ]
  },
  {
   "cell_type": "markdown",
   "id": "f9420f02",
   "metadata": {},
   "source": [
    "# Extra B\n",
    "*Tell us something interesting about this dataset that is not already covered by the questions above and that is not obvious.*"
   ]
  },
  {
   "cell_type": "code",
   "execution_count": 74,
   "id": "fe8d07a7",
   "metadata": {},
   "outputs": [
    {
     "name": "stdout",
     "output_type": "stream",
     "text": [
      "17605\n",
      "3880\n",
      "106\n"
     ]
    }
   ],
   "source": [
    "print(X['gender_Male'].sum())\n",
    "print(X['gender_Female'].sum())\n",
    "print(X['gender_Other'].sum())"
   ]
  },
  {
   "cell_type": "code",
   "execution_count": 98,
   "id": "30378572",
   "metadata": {},
   "outputs": [
    {
     "name": "stdout",
     "output_type": "stream",
     "text": [
      "Zodiac_1     1843\n",
      "Zodiac_2     1781\n",
      "Zodiac_3     1825\n",
      "Zodiac_4     1811\n",
      "Zodiac_5     1796\n",
      "Zodiac_6     1848\n",
      "Zodiac_7     1837\n",
      "Zodiac_8     1780\n",
      "Zodiac_9     1812\n",
      "Zodiac_10    1780\n",
      "Zodiac_11    1752\n",
      "Zodiac_12    1816\n",
      "dtype: int64\n",
      "1848\n"
     ]
    },
    {
     "data": {
      "text/plain": [
       "<AxesSubplot:>"
      ]
     },
     "execution_count": 98,
     "metadata": {},
     "output_type": "execute_result"
    },
    {
     "data": {
      "image/png": "[encoded data removed]",
      "text/plain": [
       "<Figure size 432x288 with 1 Axes>"
      ]
     },
     "metadata": {
      "needs_background": "light"
     },
     "output_type": "display_data"
    }
   ],
   "source": [
    "Zod = X[['Zodiac_1', 'Zodiac_2', 'Zodiac_3',\n",
    "       'Zodiac_4', 'Zodiac_5', 'Zodiac_6', 'Zodiac_7', 'Zodiac_8', 'Zodiac_9',\n",
    "       'Zodiac_10', 'Zodiac_11', 'Zodiac_12']].sum()\n",
    "print(Zod)\n",
    "Zod = pd.DataFrame(Zod)\n",
    "Zod.plot.bar()"
   ]
  },
  {
   "cell_type": "markdown",
   "id": "8cd27c90",
   "metadata": {},
   "source": [
    "* In the dataset, most of the individuals are males, approximately 5 times more than the number of females.\n",
    "* The Zodiac signs are pretty average. Zodiac 6 ♍︎ is the majority with 1848."
   ]
  },
  {
   "cell_type": "code",
   "execution_count": null,
   "id": "689bcba5",
   "metadata": {},
   "outputs": [],
   "source": []
  }
 ],
 "metadata": {
  "kernelspec": {
   "display_name": "Python 3 (ipykernel)",
   "language": "python",
   "name": "python3"
  },
  "language_info": {
   "codemirror_mode": {
    "name": "ipython",
    "version": 3
   },
   "file_extension": ".py",
   "mimetype": "text/x-python",
   "name": "python",
   "nbconvert_exporter": "python",
   "pygments_lexer": "ipython3",
   "version": "3.8.5"
  }
 },
 "nbformat": 4,
 "nbformat_minor": 5
}
